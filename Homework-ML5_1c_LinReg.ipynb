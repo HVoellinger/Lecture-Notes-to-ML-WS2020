{
 "cells": [
  {
   "cell_type": "markdown",
   "metadata": {},
   "source": [
    "# # Simple Linear Regression With scikit-learn (Example from lesson ML05)\n",
    "\n",
    "Powered by: Dr. Hermann Völlinger, DHBW Stuttgart(Germany); July 2020\n",
    "    \n",
    "Following ideas from: \n",
    "\"Linear Regression in Python\" by Mirko Stojiljkovic, 28.4.2020 \n",
    "(see details: https://realpython.com/linear-regression-in-python/#what-is-regression)     \n",
    " \n",
    "The example is from Lecture: \"ML_Concept&Algorithm\" (WS2020); Homework ML5.1 with title:  \"Manual calculations of R² \n",
    " and find the optimal Regression-Line for a small example” +  “Create a Jupyter Notebook (Python) to check the manual \n",
    " calculated results\"  \n",
    " \n",
    "Let’s start with the simplest case, which is simple linear regression.\n",
    "There are five basic steps when you’re implementing linear regression:\n",
    "    \n",
    "1. Import the packages and classes you need.\n",
    "2. Provide data to work with and eventually do appropriate transformations.\n",
    "3. Create a regression model and fit it with existing data.\n",
    "4. Check the results of model fitting to know whether the model is satisfactory.\n",
    "5. Apply the model for predictions.\n",
    "These steps are more or less general for most of the regression approaches and implementations."
   ]
  },
  {
   "cell_type": "markdown",
   "metadata": {},
   "source": [
    "# Step 1: Import packages and classes\n",
    "The first step is to import the package numpy and the class LinearRegression from sklearn.linear_model:"
   ]
  },
  {
   "cell_type": "code",
   "execution_count": 3,
   "metadata": {},
   "outputs": [
    {
     "name": "stdout",
     "output_type": "stream",
     "text": [
      "1.18.3\n",
      "0.22.2.post1\n"
     ]
    }
   ],
   "source": [
    "# Step 1: Import packages and classes\n",
    "\n",
    "import numpy as np\n",
    "import sklearn as sk\n",
    "from sklearn.linear_model import LinearRegression\n",
    "\n",
    "# import time module\n",
    "import time\n",
    "\n",
    "# check the actual versions of the imported libraries\n",
    "\n",
    "print (np.__version__)\n",
    "print (sk.__version__)"
   ]
  },
  {
   "cell_type": "markdown",
   "metadata": {},
   "source": [
    "Now, you have all the functionalities you need to implement linear regression.\n",
    "\n",
    "The fundamental data type of NumPy is the array type called numpy.ndarray. The rest of this article uses the term array to refer to instances of the type numpy.ndarray.\n",
    "\n",
    "The class sklearn.linear_model.LinearRegression will be used to perform linear and polynomial regression and make predictions accordingly."
   ]
  },
  {
   "cell_type": "markdown",
   "metadata": {},
   "source": [
    "# Step 2: Provide data\n",
    "The second step is defining data to work with. The inputs (regressors, 𝑥) and output (predictor, 𝑦) should be arrays\n",
    "(the instances of the class numpy.ndarray) or similar objects. This is the simplest way of providing data for regression:"
   ]
  },
  {
   "cell_type": "code",
   "execution_count": 4,
   "metadata": {},
   "outputs": [],
   "source": [
    "# Step 2: Provide data\n",
    "\n",
    "x = np.array([ 1, 3, 2]).reshape((-1, 1))\n",
    "y = np.array([ 2, 3, 2])"
   ]
  },
  {
   "cell_type": "markdown",
   "metadata": {},
   "source": [
    "Now, you have two arrays: the input x and output y. You should call .reshape() on x because this array is required to be two-dimensional, or to be more precise, to have one column and as many rows as necessary. That’s exactly what the argument (-1, 1) of .reshape() specifies."
   ]
  },
  {
   "cell_type": "code",
   "execution_count": 5,
   "metadata": {},
   "outputs": [
    {
     "name": "stdout",
     "output_type": "stream",
     "text": [
      "This is how x and y look now:\n",
      "x= [[1]\n",
      " [3]\n",
      " [2]]\n",
      "y= [2 3 2]\n"
     ]
    }
   ],
   "source": [
    "print (\"This is how x and y look now:\")\n",
    "print(\"x=\",x)\n",
    "print(\"y=\",y)"
   ]
  },
  {
   "cell_type": "markdown",
   "metadata": {},
   "source": [
    "As you can see, x has two dimensions, and x.shape is (3, 1), while y has only a single dimension, and y.shape is (3,)."
   ]
  },
  {
   "cell_type": "markdown",
   "metadata": {},
   "source": [
    "# Step 3: Create a model and fit it\n",
    "\n",
    "The next step is to create a linear regression model and fit it using the existing data.\n",
    "Let’s create an instance of the class LinearRegression, which will represent the regression model:"
   ]
  },
  {
   "cell_type": "code",
   "execution_count": 7,
   "metadata": {},
   "outputs": [],
   "source": [
    "model = LinearRegression()"
   ]
  },
  {
   "cell_type": "markdown",
   "metadata": {},
   "source": [
    "This statement creates the variable model as the instance of LinearRegression. You can provide several optional\n",
    "parameters to LinearRegression:\n",
    "    \n",
    "----> fit_intercept is a Boolean (True by default) that decides whether to calculate the intercept 𝑏₀ (True) or consider\n",
    "it equal to zero (False).\n",
    "\n",
    "----> normalize is a Boolean (False by default) that decides whether to normalize the input variables (True) or not\n",
    "(False).\n",
    "\n",
    "----> copy_X is a Boolean (True by default) that decides whether to copy (True) or overwrite the input variables (False).\n",
    "\n",
    "----> n_jobs is an integer or None (default) and represents the number of jobs used in parallel computation. None\n",
    "usually means one job and -1 to use all processors.\n",
    "\n",
    "This example uses the default values of all parameters.\n",
    "\n",
    "It’s time to start using the model. First, you need to call .fit() on model:\n",
    "    \n"
   ]
  },
  {
   "cell_type": "code",
   "execution_count": 8,
   "metadata": {},
   "outputs": [
    {
     "data": {
      "text/plain": [
       "LinearRegression(copy_X=True, fit_intercept=True, n_jobs=None, normalize=False)"
      ]
     },
     "execution_count": 8,
     "metadata": {},
     "output_type": "execute_result"
    }
   ],
   "source": [
    "model.fit(x, y)"
   ]
  },
  {
   "cell_type": "markdown",
   "metadata": {},
   "source": [
    "With .fit(), you calculate the optimal values of the weights 𝑏₀ and 𝑏₁, using the existing input and output (x and y) as\n",
    "the arguments. In other words, .fit() fits the model. It returns self, which is the variable model itself. That’s why you\n",
    "can replace the last two statements with this one:"
   ]
  },
  {
   "cell_type": "code",
   "execution_count": 9,
   "metadata": {},
   "outputs": [],
   "source": [
    "# model = LinearRegression().fit(x, y)"
   ]
  },
  {
   "cell_type": "markdown",
   "metadata": {},
   "source": [
    "This statement does the same thing as the previous two. It’s just shorter."
   ]
  },
  {
   "cell_type": "markdown",
   "metadata": {},
   "source": [
    "# Step 4: Get results\n",
    "\n",
    "Once you have your model fitted, you can get the results to check whether the model works satisfactorily and\n",
    "interpret it.\n",
    "\n",
    "You can obtain the coefficient of determination (𝑅²) with .score() called on model:"
   ]
  },
  {
   "cell_type": "code",
   "execution_count": 13,
   "metadata": {},
   "outputs": [
    {
     "name": "stdout",
     "output_type": "stream",
     "text": [
      "coefficient of determination: 0.7499999999999999\n"
     ]
    }
   ],
   "source": [
    "r_sq = model.score(x, y)\n",
    "print('coefficient of determination:', r_sq)"
   ]
  },
  {
   "cell_type": "markdown",
   "metadata": {},
   "source": [
    "When you’re applying .score(), the arguments are also the predictor x and regressor y, and the return value is 𝑅².\n",
    "\n",
    "The attributes of model are .intercept_, which represents the coefficient,𝑏₀ and .coef_, which represents 𝑏₁:"
   ]
  },
  {
   "cell_type": "code",
   "execution_count": 14,
   "metadata": {},
   "outputs": [
    {
     "name": "stdout",
     "output_type": "stream",
     "text": [
      "intercept: 1.333333333333334\n",
      "slope: [0.5]\n"
     ]
    }
   ],
   "source": [
    "print('intercept:', model.intercept_)\n",
    "print('slope:', model.coef_)"
   ]
  },
  {
   "cell_type": "markdown",
   "metadata": {},
   "source": [
    "The code above illustrates how to get 𝑏₀ and 𝑏₁. You can notice that .intercept_ is a scalar, while .coef_ is an array.\n",
    "\n",
    "The value 𝑏₀ = 4/3 illustrates that your model predicts the response 4/3 when 𝑥 is zero. The value 𝑏₁ = 1/2 means that the \n",
    "predicted response rises by 1/2 when 𝑥 is increased by one.\n",
    "\n",
    "You should notice that you can provide y as a two-dimensional array as well. In this case, you’ll get a similar result.\n",
    "This is how it might look:"
   ]
  },
  {
   "cell_type": "code",
   "execution_count": 15,
   "metadata": {},
   "outputs": [
    {
     "name": "stdout",
     "output_type": "stream",
     "text": [
      "intercept: [1.33333333]\n",
      "slope: [[0.5]]\n"
     ]
    }
   ],
   "source": [
    "new_model = LinearRegression().fit(x, y.reshape((-1, 1)))\n",
    "print('intercept:', new_model.intercept_)\n",
    "print('slope:', new_model.coef_)"
   ]
  },
  {
   "cell_type": "markdown",
   "metadata": {},
   "source": [
    "As you can see, this example is very similar to the previous one, but in this case, .intercept_ is a one-dimensional array with the single element 𝑏₀, and .coef_ is a two-dimensional array with the single element 𝑏₁."
   ]
  },
  {
   "cell_type": "markdown",
   "metadata": {},
   "source": [
    "# Step 5: Predict response\n",
    "\n",
    "Once there is a satisfactory model, you can use it for predictions with either existing or new data.\n",
    "\n",
    "To obtain the predicted response, use .predict():"
   ]
  },
  {
   "cell_type": "code",
   "execution_count": 16,
   "metadata": {},
   "outputs": [
    {
     "name": "stdout",
     "output_type": "stream",
     "text": [
      "predicted response:\n",
      "[1.83333333 2.83333333 2.33333333]\n"
     ]
    }
   ],
   "source": [
    "y_pred = model.predict(x)\n",
    "print('predicted response:', y_pred, sep='\\n')"
   ]
  },
  {
   "cell_type": "markdown",
   "metadata": {},
   "source": [
    "When applying .predict(), you pass the regressor as the argument and get the corresponding predicted response.\n",
    "\n",
    "This is a nearly identical way to predict the response:"
   ]
  },
  {
   "cell_type": "code",
   "execution_count": 17,
   "metadata": {},
   "outputs": [
    {
     "name": "stdout",
     "output_type": "stream",
     "text": [
      "predicted response:\n",
      "[[1.83333333]\n",
      " [2.83333333]\n",
      " [2.33333333]]\n"
     ]
    }
   ],
   "source": [
    "y_pred = model.intercept_ + model.coef_ * x\n",
    "print('predicted response:', y_pred, sep='\\n')"
   ]
  },
  {
   "cell_type": "markdown",
   "metadata": {},
   "source": [
    "In this case, you multiply each element of x with model.coef_ and add model.intercept_ to the product.\n",
    "\n",
    "The output here differs from the previous example only in dimensions. The predicted response is now a twodimensional\n",
    "array, while in the previous case, it had one dimension.\n",
    "\n",
    "If you reduce the number of dimensions of x to one, these two approaches will yield the same result. You can do this\n",
    "by replacing x with x.reshape(-1), x.flatten(), or x.ravel() when multiplying it with model.coef_.\n",
    "\n",
    "In practice, regression models are o􀁸en applied for forecasts. This means that you can use fitted models to calculate\n",
    "the outputs based on some other, new inputs:"
   ]
  },
  {
   "cell_type": "markdown",
   "metadata": {},
   "source": [
    "x_new = np.arange(5).reshape((-1, 1))\n",
    "print(x_new)\n",
    "y_new = model.predict(x_new)\n",
    "print(y_new)"
   ]
  },
  {
   "cell_type": "markdown",
   "metadata": {},
   "source": [
    "Here .predict() is applied to the new regressor x_new and yields the response y_new. This example conveniently uses\n",
    "arange() from numpy to generate an array with the elements from 0 (inclusive) to 5 (exclusive), that is 0, 1, 2, 3, and 4.\n",
    "\n",
    "You can find more information about LinearRegression on the official documentation page."
   ]
  },
  {
   "cell_type": "code",
   "execution_count": 18,
   "metadata": {},
   "outputs": [
    {
     "name": "stdout",
     "output_type": "stream",
     "text": [
      "date 21.07.2020 18:07:06\n",
      "end\n"
     ]
    }
   ],
   "source": [
    "# print current date and time\n",
    "print(\"date\",time.strftime(\"%d.%m.%Y %H:%M:%S\"))\n",
    "print (\"end\")"
   ]
  }
 ],
 "metadata": {
  "kernelspec": {
   "display_name": "Python 3",
   "language": "python",
   "name": "python3"
  },
  "language_info": {
   "codemirror_mode": {
    "name": "ipython",
    "version": 3
   },
   "file_extension": ".py",
   "mimetype": "text/x-python",
   "name": "python",
   "nbconvert_exporter": "python",
   "pygments_lexer": "ipython3",
   "version": "3.8.2"
  }
 },
 "nbformat": 4,
 "nbformat_minor": 4
}
