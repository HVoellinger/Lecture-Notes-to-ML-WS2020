{
 "cells": [
  {
   "cell_type": "code",
   "execution_count": null,
   "metadata": {},
   "outputs": [],
   "source": [
    "# multiple Linear Regression (mLR) with scikit-learn (Example for lesson ML05)\n",
    "\n",
    "Powered by: Dr. Hermann Völlinger, DHBW Stuttgart(Germany); July 2020\n",
    "    \n",
    "Following ideas from: \n",
    "\"Linear Regression in Python\" by Mirko Stojiljkovic, 28.4.2020 \n",
    "(see details: https://realpython.com/linear-regression-in-python/#what-is-regression)     \n",
    " \n",
    "You can obtain the properties of the model the same way as in the case of simple linear regression:\n",
    "The example is from Lecture: \"ML_Concept&Algorithm\" (WS2020); Chapter ML5, Slide with title:\n",
    " \"Definition of the “Adjusted R-Squared” Measure: Adj.R²\"\n",
    " \n",
    "So let’s start with the next level of Linear Regression, which is multipe Linear Regression (mLR).\n",
    "There are five basic steps when you’re implementing linear regression:\n",
    "    \n",
    "1. Import the packages and classes you need.\n",
    "2. Provide data to work with and eventually do appropriate transformations.\n",
    "3. Create a regression model and fit it with existing data.\n",
    "4. Check the results of model fitting to know whether the model is satisfactory.\n",
    "5. Apply the model for predictions.\n",
    "These steps are more or less general for most of the regression approaches and implementations."
   ]
  },
  {
   "cell_type": "markdown",
   "metadata": {},
   "source": [
    "## Steps 1 and 2: Import packages and classes, and provide data\n",
    "\n",
    "First, you import numpy and sklearn.linear_model.LinearRegression and provide known inputs and output:"
   ]
  },
  {
   "cell_type": "code",
   "execution_count": 1,
   "metadata": {},
   "outputs": [],
   "source": [
    "# First, you import numpy and sklearn.linear_model.LinearRegression and\n",
    "# provide known inputs and output. \n",
    "\n",
    "import numpy as np\n",
    "from sklearn.linear_model import LinearRegression\n",
    "\n",
    "# That’s a simple way to define the input x and output y.\n",
    "\n",
    "x = [[0, 1], [5, 1], [15, 2], [25, 5], [35, 11], [45, 15], [55, 34], [60, 35]]\n",
    "y = [4, 5, 20, 14, 32, 22, 38, 43]\n",
    "x, y = np.array(x), np.array(y)\n"
   ]
  },
  {
   "cell_type": "code",
   "execution_count": 2,
   "metadata": {},
   "outputs": [
    {
     "name": "stdout",
     "output_type": "stream",
     "text": [
      "x looks like:  [[ 0  1]\n",
      " [ 5  1]\n",
      " [15  2]\n",
      " [25  5]\n",
      " [35 11]\n",
      " [45 15]\n",
      " [55 34]\n",
      " [60 35]]\n",
      "y looks like:  [ 4  5 20 14 32 22 38 43]\n"
     ]
    }
   ],
   "source": [
    "# You can print x and y to see how they look now:\n",
    "\n",
    "print('x looks like: ', x)\n",
    "\n",
    "print('y looks like: ', y)\n"
   ]
  },
  {
   "cell_type": "markdown",
   "metadata": {},
   "source": [
    "## Step 3: Create a model and fit it\n",
    "\n",
    "The next step is to create the regression model as an instance of LinearRegression and fit it with .fit():"
   ]
  },
  {
   "cell_type": "code",
   "execution_count": 3,
   "metadata": {},
   "outputs": [],
   "source": [
    "# The result of this statement is the variable model referring to the object of type LinearRegression.\n",
    "# It represents the regression model fitted with existing data.\n",
    "\n",
    "model = LinearRegression().fit(x, y)"
   ]
  },
  {
   "cell_type": "markdown",
   "metadata": {},
   "source": [
    "## Step 4: Get results\n",
    "\n",
    "You can obtain the properties of the model the same way as in the case of simple linear regression:"
   ]
  },
  {
   "cell_type": "code",
   "execution_count": 4,
   "metadata": {},
   "outputs": [
    {
     "name": "stdout",
     "output_type": "stream",
     "text": [
      "coefficient of determination: 0.8615939258756776\n",
      "intercept: 5.52257927519819\n",
      "coefficients: [0.44706965 0.25502548]\n"
     ]
    }
   ],
   "source": [
    "r_sq = model.score(x, y)\n",
    "print('coefficient of determination:', r_sq)\n",
    "print('intercept:', model.intercept_)\n",
    "print('coefficients:', model.coef_)\n"
   ]
  },
  {
   "cell_type": "markdown",
   "metadata": {},
   "source": [
    "You obtain the value of 𝑅² using .score() and the values of the estimators of regression coefficients with .intercept_ and .coef_. Again, .intercept_ holds the bias 𝑏₀, while now .coef_ is an array containing 𝑏₁ and 𝑏₂ respectively.\n",
    "\n",
    "In this example, the intercept is approximately 5.52, and this is the value of the predicted response when 𝑥₁ = 𝑥₂ = 0. The increase of 𝑥₁ by 1 yields the rise of the predicted response by 0.45. Similarly, when 𝑥₂ grows by 1, the response rises by 0.26."
   ]
  },
  {
   "cell_type": "markdown",
   "metadata": {},
   "source": [
    "## Step 5: Predict response\n",
    "\n",
    "Predictions also work the same way as in the case of simple linear regression:\n",
    "    The predicted response is obtained with .predict()"
   ]
  },
  {
   "cell_type": "code",
   "execution_count": 5,
   "metadata": {},
   "outputs": [
    {
     "name": "stdout",
     "output_type": "stream",
     "text": [
      "predicted response:\n",
      "[ 5.77760476  8.012953   12.73867497 17.9744479  23.97529728 29.4660957\n",
      " 38.78227633 41.27265006]\n"
     ]
    }
   ],
   "source": [
    "y_pred = model.predict(x)\n",
    "print('predicted response:', y_pred, sep='\\n')"
   ]
  },
  {
   "cell_type": "markdown",
   "metadata": {},
   "source": [
    "You can predict the output values also (which is similar to run \".predict()\"), by multiplying each column of the input with the appropriate weight, summing the results and adding the intercept to the sum."
   ]
  },
  {
   "cell_type": "code",
   "execution_count": 6,
   "metadata": {},
   "outputs": [
    {
     "name": "stdout",
     "output_type": "stream",
     "text": [
      "predicted response:\n",
      "[ 5.77760476  8.012953   12.73867497 17.9744479  23.97529728 29.4660957\n",
      " 38.78227633 41.27265006]\n"
     ]
    }
   ],
   "source": [
    "y_pred = model.intercept_ + np.sum(model.coef_ * x, axis=1)\n",
    "print('predicted response:', y_pred, sep='\\n')"
   ]
  },
  {
   "cell_type": "markdown",
   "metadata": {},
   "source": [
    "You can apply this model to new data as well:"
   ]
  },
  {
   "cell_type": "code",
   "execution_count": 7,
   "metadata": {},
   "outputs": [
    {
     "name": "stdout",
     "output_type": "stream",
     "text": [
      "[[0 1]\n",
      " [2 3]\n",
      " [4 5]\n",
      " [6 7]\n",
      " [8 9]]\n",
      "[ 5.77760476  7.18179502  8.58598528  9.99017554 11.3943658 ]\n"
     ]
    }
   ],
   "source": [
    "x_new = np.arange(10).reshape((-1, 2))\n",
    "print(x_new)\n",
    "y_new = model.predict(x_new)\n",
    "print(y_new)"
   ]
  },
  {
   "cell_type": "code",
   "execution_count": 8,
   "metadata": {},
   "outputs": [
    {
     "name": "stdout",
     "output_type": "stream",
     "text": [
      "date 24.07.2020 18:14:59\n",
      "end\n"
     ]
    }
   ],
   "source": [
    "# print current date and time\n",
    "import time\n",
    "print(\"date\",time.strftime(\"%d.%m.%Y %H:%M:%S\"))\n",
    "print (\"end\")"
   ]
  }
 ],
 "metadata": {
  "kernelspec": {
   "display_name": "Python 3",
   "language": "python",
   "name": "python3"
  },
  "language_info": {
   "codemirror_mode": {
    "name": "ipython",
    "version": 3
   },
   "file_extension": ".py",
   "mimetype": "text/x-python",
   "name": "python",
   "nbconvert_exporter": "python",
   "pygments_lexer": "ipython3",
   "version": "3.8.2"
  }
 },
 "nbformat": 4,
 "nbformat_minor": 4
}
