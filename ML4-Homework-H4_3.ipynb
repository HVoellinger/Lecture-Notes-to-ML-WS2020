{
 "cells": [
  {
   "cell_type": "markdown",
   "metadata": {},
   "source": [
    "# Define a Decision Tree for a Predictive Maintenance Problem (Homework 4.3 of lesson ML05)\n",
    "\n",
    "Powered by: Dr. Hermann Völlinger, DHBW Stuttgart(Germany); August 2020, following ideas from Seminarpaper (DHBW SS2020): \n",
    "\"Calculation of Decision Trees using GINI-Index\" from Heike Fitzke and Paul Mäder.\n",
    "\n",
    "The solution is part of seminarpaper SW07 in the list of seminarpapers \n",
    "(http://wwwlehre.dhbw-stuttgart.de/~hvoellin/Themes_ML_Seminar_Paper.pdf) as part of the \n",
    "Machine Learning lecture by Hermann Völlinger at DHBW Stuttgart (SS2020). \n",
    "\n",
    "To see more details pls. check JP Notebook with name \"Homework-H4_3ipynb\" or Python Pgm.\"Homework-H4_3.py\" in GitHub Account \n",
    "from H.Völlinger: https://github.com/HVoellinger/Lecture-Notes-to-ML-WS2020 \n",
    "        \n",
    "The here used algorithms and methods are from Lecture: \"ML_Concept&Algorithm (WS2020)\"; Chapter ML4. See slides with the titles:\n",
    "\"Build Tree with Gini Index (1/8)\" until \"Build Tree with Gini Index (8/8)\".\n",
    "    \n",
    "There are four basic steps when you’re implementing this solution:\n",
    "\n",
    "1. Import libraries and load and prepare training data.\n",
    "2. Define the Decision Tree for the example data (\"Training Data\") \n",
    "3. Calculation of the es GINI Indices and Definition of the Nodes.\n",
    "4. Define the DTree and print the results (incl. Feature values and Nodes)\n",
    " "
   ]
  },
  {
   "cell_type": "markdown",
   "metadata": {},
   "source": [
    "# Step 1: Import libraries and Load & prepare Training Data\n",
    "\n",
    "1. Import Libraies and check the versions.\n",
    "2. Import the data from csv-file: \"Homework-H3_4-data.csv\".\n",
    "3. Define the value \"Yes\" of column \"Fehler\" as \"1\" else set it to \"0\".\n",
    "4. Overwrite the column \"Fehler\" with the new values.\n",
    "5. Print now the data to check it (ommit not needed columns).\n"
   ]
  },
  {
   "cell_type": "code",
   "execution_count": 1,
   "metadata": {},
   "outputs": [
    {
     "name": "stdout",
     "output_type": "stream",
     "text": [
      "1.0.3\n",
      "1.18.3\n",
      "3.2.1\n",
      "0.22.2.post1\n"
     ]
    }
   ],
   "source": [
    "# Imports of needed libraries\n",
    "\n",
    "import pandas as pd\n",
    "import numpy as np\n",
    "import matplotlib as mp\n",
    "import sklearn as sk\n",
    "import matplotlib.pyplot as plt\n",
    "from sklearn.tree import plot_tree\n",
    "from sklearn.tree import DecisionTreeClassifier\n",
    "\n",
    "# to check the time of execution, import function time  \n",
    "import time\n",
    "\n",
    "# check the actual versions of the imported libraries\n",
    "print (pd.__version__)\n",
    "print (np.__version__)\n",
    "print (mp.__version__)\n",
    "print (sk.__version__)"
   ]
  },
  {
   "cell_type": "code",
   "execution_count": 2,
   "metadata": {},
   "outputs": [
    {
     "name": "stdout",
     "output_type": "stream",
     "text": [
      "This is the list of 3 features and one target column (\"Training Data\"):\n"
     ]
    },
    {
     "data": {
      "text/html": [
       "<div>\n",
       "<style scoped>\n",
       "    .dataframe tbody tr th:only-of-type {\n",
       "        vertical-align: middle;\n",
       "    }\n",
       "\n",
       "    .dataframe tbody tr th {\n",
       "        vertical-align: top;\n",
       "    }\n",
       "\n",
       "    .dataframe thead th {\n",
       "        text-align: right;\n",
       "    }\n",
       "</style>\n",
       "<table border=\"1\" class=\"dataframe\">\n",
       "  <thead>\n",
       "    <tr style=\"text-align: right;\">\n",
       "      <th></th>\n",
       "      <th>Temp.</th>\n",
       "      <th>Druck</th>\n",
       "      <th>Füllst.</th>\n",
       "      <th>Fehler</th>\n",
       "    </tr>\n",
       "  </thead>\n",
       "  <tbody>\n",
       "    <tr>\n",
       "      <th>0</th>\n",
       "      <td>244</td>\n",
       "      <td>140</td>\n",
       "      <td>4600</td>\n",
       "      <td>0</td>\n",
       "    </tr>\n",
       "    <tr>\n",
       "      <th>1</th>\n",
       "      <td>200</td>\n",
       "      <td>130</td>\n",
       "      <td>4300</td>\n",
       "      <td>0</td>\n",
       "    </tr>\n",
       "    <tr>\n",
       "      <th>2</th>\n",
       "      <td>245</td>\n",
       "      <td>108</td>\n",
       "      <td>4100</td>\n",
       "      <td>1</td>\n",
       "    </tr>\n",
       "    <tr>\n",
       "      <th>3</th>\n",
       "      <td>250</td>\n",
       "      <td>112</td>\n",
       "      <td>4100</td>\n",
       "      <td>0</td>\n",
       "    </tr>\n",
       "    <tr>\n",
       "      <th>4</th>\n",
       "      <td>200</td>\n",
       "      <td>107</td>\n",
       "      <td>4200</td>\n",
       "      <td>0</td>\n",
       "    </tr>\n",
       "    <tr>\n",
       "      <th>5</th>\n",
       "      <td>272</td>\n",
       "      <td>170</td>\n",
       "      <td>4400</td>\n",
       "      <td>1</td>\n",
       "    </tr>\n",
       "    <tr>\n",
       "      <th>6</th>\n",
       "      <td>265</td>\n",
       "      <td>105</td>\n",
       "      <td>4100</td>\n",
       "      <td>0</td>\n",
       "    </tr>\n",
       "    <tr>\n",
       "      <th>7</th>\n",
       "      <td>248</td>\n",
       "      <td>138</td>\n",
       "      <td>4800</td>\n",
       "      <td>1</td>\n",
       "    </tr>\n",
       "    <tr>\n",
       "      <th>8</th>\n",
       "      <td>200</td>\n",
       "      <td>194</td>\n",
       "      <td>4500</td>\n",
       "      <td>1</td>\n",
       "    </tr>\n",
       "  </tbody>\n",
       "</table>\n",
       "</div>"
      ],
      "text/plain": [
       "   Temp.  Druck  Füllst.  Fehler\n",
       "0    244    140     4600       0\n",
       "1    200    130     4300       0\n",
       "2    245    108     4100       1\n",
       "3    250    112     4100       0\n",
       "4    200    107     4200       0\n",
       "5    272    170     4400       1\n",
       "6    265    105     4100       0\n",
       "7    248    138     4800       1\n",
       "8    200    194     4500       1"
      ]
     },
     "execution_count": 2,
     "metadata": {},
     "output_type": "execute_result"
    }
   ],
   "source": [
    "# Prepare and Print Training Data\n",
    "print('This is the list of 3 features and one target column (\"Training Data\"):')\n",
    "data = pd.read_csv('Homework-H4_3-Data.csv')\n",
    "data['Fehler'] = pd.Series(np.where(data.Fehler.values == 'YES', 1, 0), data.index)\n",
    "data.drop(['Typ', 'Anl', 'Nr.'], axis=1, inplace=True)\n",
    "data"
   ]
  },
  {
   "cell_type": "markdown",
   "metadata": {},
   "source": [
    "# Step 2: Define the Decision Tree & Calculate GINI Indices\n",
    "\n",
    "1. Define the features and the target value (\"Fehler\")\n",
    "2. Call Function DecisisontreeClassifier with paramters\n",
    "3. Fit the Decision Tree (DT) model\n",
    "4. Plot the Dec.Tree"
   ]
  },
  {
   "cell_type": "code",
   "execution_count": 4,
   "metadata": {},
   "outputs": [
    {
     "data": {
      "image/png": "[encoded data removed]",
      "text/plain": [
       "<Figure size 720x720 with 1 Axes>"
      ]
     },
     "metadata": {
      "needs_background": "light"
     },
     "output_type": "display_data"
    }
   ],
   "source": [
    "features = ['Temp.', 'Druck', 'Füllst.']\n",
    "X = data[features]\n",
    "y = data.Fehler\n",
    "crv = DecisionTreeClassifier(max_depth=3, criterion='gini')\n",
    "crv.fit(X,y)\n",
    "y_pred = crv.predict(X)\n",
    "fig = plt.figure()\n",
    "fig.set_size_inches(10,10)\n",
    "tree_plot = plot_tree(crv, filled=True, \n",
    "    feature_names=features, fontsize=13)\n",
    "plt.show()\n"
   ]
  },
  {
   "cell_type": "markdown",
   "metadata": {},
   "source": [
    "# Step 3: Calculation of the GINI Indices and Definition of the Nodes\n",
    "\n",
    "1. Calculates the Gini indices and returns them as a list for the specified columns.\n",
    "2. Finds the next node, outputs it and returns the value and column of the affected value."
   ]
  },
  {
   "cell_type": "code",
   "execution_count": 5,
   "metadata": {},
   "outputs": [],
   "source": [
    "# Calculates the Gini indices and returns them as a list for the specified columns.\n",
    "\n",
    "def gini(data, split_points, col):\n",
    "    ges = len(data.index)\n",
    "    gini_ind = []\n",
    "    for x in split_points.index:\n",
    "        high = data[data[col] >= split_points[col][x]].count()[col]\n",
    "        high_n = data[(data[col] >= split_points[col][x]) & \n",
    "            (data['Fehler'] == 0)].count()[col]\n",
    "        low = data[data[col] < split_points[col][x]].count()[col]\n",
    "        low_n = data[(data[col] < split_points[col][x]) & \n",
    "            (data['Fehler'] == 0)].count()[col]\n",
    "        if(low != 0):\n",
    "            g_low = low/ges*(1-((low-low_n)/low)**2-(low_n/low)**2)\n",
    "        else:\n",
    "            g_low = 0\n",
    "        g_high = high/ges*(1-((high-high_n)/high)**2-(high_n/high)**2)\n",
    "        gini_ind.append(g_high+g_low)\n",
    "    return(gini_ind)\n",
    "\n"
   ]
  },
  {
   "cell_type": "code",
   "execution_count": 6,
   "metadata": {},
   "outputs": [],
   "source": [
    "# Finds the next node, outputs it and returns the value and column of the affected value.\n",
    "\n",
    "def get_node(data, test_col):\n",
    "    gini_table = pd.DataFrame()\n",
    "    split_points = pd.DataFrame()\n",
    "    low_gini = 1\n",
    "\n",
    "    for col in data.columns:\n",
    "        if(col != test_col):\n",
    "            sorted_data = data.sort_values(by=col, ignore_index=True)\n",
    "            for x in range(1, len(sorted_data)):\n",
    "                split_points.at[x-1, col] = (sorted_data[col][x-1] + \n",
    "                    sorted_data[col][x]) / 2\n",
    "            gini_table[col] = gini(sorted_data, split_points, col)\n",
    "            if(gini_table[col].min() < low_gini):\n",
    "                low_gini = gini_table[col].min()\n",
    "                node_col = col\n",
    "                node_val = split_points[col][gini_table[col].idxmin()]\n",
    "\n",
    "    print(split_points)\n",
    "    print(gini_table)\n",
    "    print(node_col, node_val)\n",
    "    return (node_val, node_col)\n"
   ]
  },
  {
   "cell_type": "markdown",
   "metadata": {},
   "source": [
    "# Step 4: Define the tree and print the results (inclusive all feature-values and nodes)\n",
    "\n",
    "1. Define the tree with it nodes by running the logic of teh lesson\n",
    "2. Print the data for all Values of the features\n",
    "3. Print and show the node values foe all three features"
   ]
  },
  {
   "cell_type": "code",
   "execution_count": 7,
   "metadata": {},
   "outputs": [],
   "source": [
    "def tree(data, test_col):\n",
    "    l_data = data.copy()\n",
    "    while(len(l_data.columns) > 1 and not l_data.empty):\n",
    "        node = get_node(l_data, test_col)\n",
    "        l_data.drop(index = l_data[l_data[node[1]] >= \n",
    "            node[0]].index, inplace = True)\n",
    "        l_data.drop(columns = node[1], inplace = True)\n",
    "        l_data.reset_index(drop = True, inplace = True)\n",
    "    return\n"
   ]
  },
  {
   "cell_type": "markdown",
   "metadata": {},
   "source": [
    "Print the result, ie.:\n",
    "-> a. Print all steps with it results.\n",
    "-> b. Print the nodea and its values. "
   ]
  },
  {
   "cell_type": "code",
   "execution_count": 8,
   "metadata": {},
   "outputs": [
    {
     "name": "stdout",
     "output_type": "stream",
     "text": [
      "   Temp.  Druck  Füllst.\n",
      "0  200.0  106.0   4100.0\n",
      "1  200.0  107.5   4100.0\n",
      "2  222.0  110.0   4150.0\n",
      "3  244.5  121.0   4250.0\n",
      "4  246.5  134.0   4350.0\n",
      "5  249.0  139.0   4450.0\n",
      "6  257.5  155.0   4550.0\n",
      "7  268.5  182.0   4700.0\n",
      "      Temp.     Druck   Füllst.\n",
      "0  0.493827  0.444444  0.493827\n",
      "1  0.493827  0.380952  0.493827\n",
      "2  0.481481  0.481481  0.481481\n",
      "3  0.433333  0.433333  0.433333\n",
      "4  0.488889  0.344444  0.344444\n",
      "5  0.481481  0.444444  0.444444\n",
      "6  0.492063  0.317460  0.492063\n",
      "7  0.416667  0.416667  0.416667\n",
      "Druck 155.0\n",
      "   Temp.  Füllst.\n",
      "0  200.0   4100.0\n",
      "1  222.0   4100.0\n",
      "2  244.5   4150.0\n",
      "3  246.5   4250.0\n",
      "4  249.0   4450.0\n",
      "5  257.5   4700.0\n",
      "      Temp.   Füllst.\n",
      "0  0.408163  0.408163\n",
      "1  0.342857  0.408163\n",
      "2  0.285714  0.404762\n",
      "3  0.404762  0.404762\n",
      "4  0.342857  0.371429\n",
      "5  0.380952  0.238095\n",
      "Füllst. 4700.0\n",
      "   Temp.\n",
      "0  200.0\n",
      "1  222.0\n",
      "2  244.5\n",
      "3  247.5\n",
      "4  257.5\n",
      "      Temp.\n",
      "0  0.277778\n",
      "1  0.250000\n",
      "2  0.222222\n",
      "3  0.250000\n",
      "4  0.266667\n",
      "Temp. 244.5\n"
     ]
    }
   ],
   "source": [
    "# Print all steps with it results\n",
    "# Print the node and its value \n",
    "\n",
    "tree(data, 'Fehler')"
   ]
  },
  {
   "cell_type": "code",
   "execution_count": 9,
   "metadata": {},
   "outputs": [
    {
     "name": "stdout",
     "output_type": "stream",
     "text": [
      "date 07.08.2020 22:57:32\n",
      "******** end of Homework H4.3 ******************\n"
     ]
    }
   ],
   "source": [
    "# print current date and time\n",
    "print(\"date\",time.strftime(\"%d.%m.%Y %H:%M:%S\"))\n",
    "print (\"******** end of Homework H4.3 ******************\")\n"
   ]
  }
 ],
 "metadata": {
  "kernelspec": {
   "display_name": "Python 3",
   "language": "python",
   "name": "python3"
  },
  "language_info": {
   "codemirror_mode": {
    "name": "ipython",
    "version": 3
   },
   "file_extension": ".py",
   "mimetype": "text/x-python",
   "name": "python",
   "nbconvert_exporter": "python",
   "pygments_lexer": "ipython3",
   "version": "3.8.2"
  }
 },
 "nbformat": 4,
 "nbformat_minor": 4
}
