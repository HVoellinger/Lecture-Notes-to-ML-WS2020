{
 "cells": [
  {
   "cell_type": "markdown",
   "metadata": {},
   "source": [
    "# Decision Tree for the Use Case “Playing Tennis” using ID3 method\n",
    "Homework H4.5 from Exercises to Lesson ML4Homework of the lecture \"Machine Learning - Concepts & Algorithms\". DHBW Stuttgart (WS2020)\n",
    "***\n",
    "By Brian Brandner and Daniel Rück \n",
    "26. October 2020\n",
    "***\n",
    "\n",
    "The ID3 (Iterative Dichotomiser 3) method is used to generate a decision tree from a dataset.\n",
    "To achieve this the algorithm needs the __Entropy__ formula to determine impurity of data and the __Information Gain__, which indicates the most relevant dataset attribut\n",
    "\n",
    "\n",
    "\n",
    "\n",
    "## Import of libraries\n",
    "- __pandas__  - loads the dataset and provids necessary frame details\n",
    "- __math__    - calculates in the alogarithm to the base 2\n",
    "- __pprint__    - prints the dictionary storage\n",
    "- __IPython__ - uses display, Math and Latex to for printing the formula \n",
    "\n",
    "- __sys__ - version information to python"
   ]
  },
  {
   "cell_type": "code",
   "execution_count": 1,
   "metadata": {},
   "outputs": [
    {
     "name": "stdout",
     "output_type": "stream",
     "text": [
      "python 3.6.9 (default, Oct  8 2020, 12:12:24) \n",
      "[GCC 8.4.0]\n",
      "pandas 1.1.3\n"
     ]
    }
   ],
   "source": [
    "# libraries to import\n",
    "import pandas as pd\n",
    "import math\n",
    "import pprint\n",
    "from IPython.display import display, Math, Latex\n",
    "# python version check library\n",
    "import sys\n",
    "\n",
    "# print python version, for some imports this version number is viewed as theirs. \n",
    "print(\"python {}\".format(sys.version))\n",
    "# version of pandas\n",
    "print(\"pandas {}\".format(pd.__version__))"
   ]
  },
  {
   "cell_type": "markdown",
   "metadata": {},
   "source": [
    "## Entropy formula\n",
    "\n",
    "H - greek Eta, Entropy\n",
    "\n",
    "S - Dataset\n",
    "\n",
    "p(x_i) - Proportion of classification to results (Quantity of Yes or No / sum of Yes and No)\n"
   ]
  },
  {
   "cell_type": "code",
   "execution_count": 2,
   "metadata": {},
   "outputs": [
    {
     "data": {
      "text/latex": [
       "$\\displaystyle H(S) = - \\sum_{i=1}^n p(x_i) \\log_2 p(x_i)$"
      ],
      "text/plain": [
       "<IPython.core.display.Math object>"
      ]
     },
     "metadata": {},
     "output_type": "display_data"
    }
   ],
   "source": [
    "display(Math(r'H(S) = - \\sum_{i=1}^n p(x_i) \\log_2 p(x_i)'))"
   ]
  },
  {
   "cell_type": "markdown",
   "metadata": {},
   "source": [
    "## Information Gain formula\n",
    "\n",
    "IG - Information Gain\n",
    "\n",
    "S - Dataset\n",
    "\n",
    "C - Column\n",
    "\n",
    "H(S_Total) - Total entropy of the dataframe\n",
    "\n",
    "p(Z_Column) - Value count of active column divided by max column length \n",
    "\n",
    "H(S_Column) - Entropy of active column value"
   ]
  },
  {
   "cell_type": "code",
   "execution_count": 3,
   "metadata": {},
   "outputs": [
    {
     "data": {
      "text/latex": [
       "$\\displaystyle IG(S, C) = H(S_{Total}) - \\sum_{} p(Z_{Column}) * H(S_{Column})$"
      ],
      "text/plain": [
       "<IPython.core.display.Math object>"
      ]
     },
     "metadata": {},
     "output_type": "display_data"
    }
   ],
   "source": [
    "display(Math(r'IG(S, C) = H(S_{Total}) - \\sum_{} p(Z_{Column}) * H(S_{Column})'))"
   ]
  },
  {
   "cell_type": "markdown",
   "metadata": {},
   "source": [
    "## Load dataset and view dataframe\n",
    "***\n",
    "- __df__ - object storage variable\n",
    "- __pd__ - pandas call of function \"read_csv\" with parameters FILE.csv and separator semicolon"
   ]
  },
  {
   "cell_type": "code",
   "execution_count": 4,
   "metadata": {},
   "outputs": [
    {
     "data": {
      "text/html": [
       "<div>\n",
       "<style scoped>\n",
       "    .dataframe tbody tr th:only-of-type {\n",
       "        vertical-align: middle;\n",
       "    }\n",
       "\n",
       "    .dataframe tbody tr th {\n",
       "        vertical-align: top;\n",
       "    }\n",
       "\n",
       "    .dataframe thead th {\n",
       "        text-align: right;\n",
       "    }\n",
       "</style>\n",
       "<table border=\"1\" class=\"dataframe\">\n",
       "  <thead>\n",
       "    <tr style=\"text-align: right;\">\n",
       "      <th></th>\n",
       "      <th>Outlook</th>\n",
       "      <th>Temperature</th>\n",
       "      <th>Humidity</th>\n",
       "      <th>Windy</th>\n",
       "      <th>Play</th>\n",
       "    </tr>\n",
       "  </thead>\n",
       "  <tbody>\n",
       "    <tr>\n",
       "      <th>0</th>\n",
       "      <td>Sunny</td>\n",
       "      <td>Hot</td>\n",
       "      <td>High</td>\n",
       "      <td>F</td>\n",
       "      <td>No</td>\n",
       "    </tr>\n",
       "    <tr>\n",
       "      <th>1</th>\n",
       "      <td>Sunny</td>\n",
       "      <td>Hot</td>\n",
       "      <td>High</td>\n",
       "      <td>T</td>\n",
       "      <td>No</td>\n",
       "    </tr>\n",
       "    <tr>\n",
       "      <th>2</th>\n",
       "      <td>Overcast</td>\n",
       "      <td>Hot</td>\n",
       "      <td>High</td>\n",
       "      <td>F</td>\n",
       "      <td>Yes</td>\n",
       "    </tr>\n",
       "    <tr>\n",
       "      <th>3</th>\n",
       "      <td>Rainy</td>\n",
       "      <td>Mild</td>\n",
       "      <td>High</td>\n",
       "      <td>F</td>\n",
       "      <td>Yes</td>\n",
       "    </tr>\n",
       "    <tr>\n",
       "      <th>4</th>\n",
       "      <td>Rainy</td>\n",
       "      <td>Cool</td>\n",
       "      <td>Normal</td>\n",
       "      <td>F</td>\n",
       "      <td>Yes</td>\n",
       "    </tr>\n",
       "    <tr>\n",
       "      <th>5</th>\n",
       "      <td>Rainy</td>\n",
       "      <td>Cool</td>\n",
       "      <td>Normal</td>\n",
       "      <td>T</td>\n",
       "      <td>No</td>\n",
       "    </tr>\n",
       "    <tr>\n",
       "      <th>6</th>\n",
       "      <td>Overcast</td>\n",
       "      <td>Cool</td>\n",
       "      <td>Normal</td>\n",
       "      <td>T</td>\n",
       "      <td>Yes</td>\n",
       "    </tr>\n",
       "    <tr>\n",
       "      <th>7</th>\n",
       "      <td>Sunny</td>\n",
       "      <td>Mild</td>\n",
       "      <td>High</td>\n",
       "      <td>F</td>\n",
       "      <td>No</td>\n",
       "    </tr>\n",
       "    <tr>\n",
       "      <th>8</th>\n",
       "      <td>Sunny</td>\n",
       "      <td>Cool</td>\n",
       "      <td>Normal</td>\n",
       "      <td>F</td>\n",
       "      <td>Yes</td>\n",
       "    </tr>\n",
       "    <tr>\n",
       "      <th>9</th>\n",
       "      <td>Rainy</td>\n",
       "      <td>Mild</td>\n",
       "      <td>Normal</td>\n",
       "      <td>F</td>\n",
       "      <td>Yes</td>\n",
       "    </tr>\n",
       "    <tr>\n",
       "      <th>10</th>\n",
       "      <td>Sunny</td>\n",
       "      <td>Mild</td>\n",
       "      <td>Normal</td>\n",
       "      <td>T</td>\n",
       "      <td>Yes</td>\n",
       "    </tr>\n",
       "    <tr>\n",
       "      <th>11</th>\n",
       "      <td>Overcast</td>\n",
       "      <td>Mild</td>\n",
       "      <td>High</td>\n",
       "      <td>T</td>\n",
       "      <td>Yes</td>\n",
       "    </tr>\n",
       "    <tr>\n",
       "      <th>12</th>\n",
       "      <td>Overcast</td>\n",
       "      <td>Hot</td>\n",
       "      <td>Normal</td>\n",
       "      <td>F</td>\n",
       "      <td>Yes</td>\n",
       "    </tr>\n",
       "    <tr>\n",
       "      <th>13</th>\n",
       "      <td>Rainy</td>\n",
       "      <td>Mild</td>\n",
       "      <td>High</td>\n",
       "      <td>T</td>\n",
       "      <td>No</td>\n",
       "    </tr>\n",
       "  </tbody>\n",
       "</table>\n",
       "</div>"
      ],
      "text/plain": [
       "     Outlook Temperature Humidity Windy Play\n",
       "0      Sunny         Hot     High     F   No\n",
       "1      Sunny         Hot     High     T   No\n",
       "2   Overcast         Hot     High     F  Yes\n",
       "3      Rainy        Mild     High     F  Yes\n",
       "4      Rainy        Cool   Normal     F  Yes\n",
       "5      Rainy        Cool   Normal     T   No\n",
       "6   Overcast        Cool   Normal     T  Yes\n",
       "7      Sunny        Mild     High     F   No\n",
       "8      Sunny        Cool   Normal     F  Yes\n",
       "9      Rainy        Mild   Normal     F  Yes\n",
       "10     Sunny        Mild   Normal     T  Yes\n",
       "11  Overcast        Mild     High     T  Yes\n",
       "12  Overcast         Hot   Normal     F  Yes\n",
       "13     Rainy        Mild     High     T   No"
      ]
     },
     "execution_count": 4,
     "metadata": {},
     "output_type": "execute_result"
    }
   ],
   "source": [
    "df = pd.read_csv(\"playTennis.csv\", sep=';')\n",
    "df"
   ]
  },
  {
   "cell_type": "markdown",
   "metadata": {},
   "source": [
    "## Root-Node\n",
    "### Total Entropy of the whole dataframe\n",
    "***\n",
    "- __tempStorage__ - variable to store selected informations\n",
    "- __df__ - loaded dataframe object, function groupby(['Column']) selects the passed column, function size() of it counts column variables"
   ]
  },
  {
   "cell_type": "code",
   "execution_count": 5,
   "metadata": {},
   "outputs": [
    {
     "data": {
      "text/plain": [
       "Play\n",
       "No     5\n",
       "Yes    9\n",
       "dtype: int64"
      ]
     },
     "execution_count": 5,
     "metadata": {},
     "output_type": "execute_result"
    }
   ],
   "source": [
    "# fracture dataframe to export data to compute \n",
    "tempStorage = df.groupby(['Play']).size()\n",
    "tempStorage"
   ]
  },
  {
   "cell_type": "markdown",
   "metadata": {},
   "source": [
    "- __yesCount__ - variable holds column value \"Yes\" count \n",
    "- __noCount__ - variable holds column value \"No\" count\n",
    "- __aggreg__ - Elements in Column\n",
    "- __aggregTotal__ - Elements in Column for Information Gain calculation\n",
    "- __entropyTotal__ - calculated entropy"
   ]
  },
  {
   "cell_type": "code",
   "execution_count": 6,
   "metadata": {},
   "outputs": [
    {
     "name": "stdout",
     "output_type": "stream",
     "text": [
      "H(S) = 0.94029\n",
      "\n"
     ]
    }
   ],
   "source": [
    "# write values to variables\n",
    "yesCount = tempStorage['Yes']\n",
    "noCount = tempStorage['No']\n",
    "aggreg = yesCount + noCount\n",
    "aggregTotal = aggreg\n",
    "\n",
    "entropyTotal = -(((yesCount/aggreg)*math.log2(yesCount/aggreg)) + ((noCount/aggreg)*math.log2(noCount/aggreg)))\n",
    "\n",
    "\n",
    "print(\"H(S) = {0:.5f}\\n\".format(entropyTotal))"
   ]
  },
  {
   "cell_type": "markdown",
   "metadata": {},
   "source": [
    "### Entropy of column Outlook\n",
    "***\n",
    "This time a selection of two columns is necessary, first column combined with result column (in this example: 'Play')\n",
    "size() provides again the amount of value frequency"
   ]
  },
  {
   "cell_type": "code",
   "execution_count": 7,
   "metadata": {},
   "outputs": [
    {
     "data": {
      "text/plain": [
       "Outlook   Play\n",
       "Overcast  Yes     4\n",
       "Rainy     No      2\n",
       "          Yes     3\n",
       "Sunny     No      3\n",
       "          Yes     2\n",
       "dtype: int64"
      ]
     },
     "execution_count": 7,
     "metadata": {},
     "output_type": "execute_result"
    }
   ],
   "source": [
    "# Overview of two selected columns\n",
    "df.groupby(['Outlook', 'Play']).size()"
   ]
  },
  {
   "cell_type": "markdown",
   "metadata": {},
   "source": [
    "To access the data, a call for the column value is needed.\n",
    "\n",
    "For 'Overcast' only \"Yes\" is an option, hence noCount is set to 0 and the formular misses the addition of its calculation"
   ]
  },
  {
   "cell_type": "code",
   "execution_count": 8,
   "metadata": {},
   "outputs": [],
   "source": [
    "# fracture dataframe to export compute data\n",
    "tempStorage = df.groupby(['Outlook', 'Play']).size()['Overcast']\n",
    "\n",
    "# write values to variables\n",
    "yesCount = tempStorage['Yes']\n",
    "noCount = 0\n",
    "aggreg = yesCount + noCount\n",
    "aggregOvercast = aggreg\n",
    "\n",
    "entropyOvercast = -((yesCount/aggreg)*math.log2(yesCount/aggreg))"
   ]
  },
  {
   "cell_type": "markdown",
   "metadata": {},
   "source": [
    "For \"Sunny\" and \"Rainy\" both result classifications are available"
   ]
  },
  {
   "cell_type": "code",
   "execution_count": 9,
   "metadata": {},
   "outputs": [],
   "source": [
    "# fracture dataframe to export compute data\n",
    "tempStorage = df.groupby(['Outlook', 'Play']).size()['Sunny']\n",
    "\n",
    "# write values to variables\n",
    "yesCount = tempStorage['Yes']\n",
    "noCount = tempStorage['No']\n",
    "aggreg = yesCount + noCount\n",
    "aggregSunny = aggreg\n",
    "\n",
    "entropySunny = -(((yesCount/aggreg)*math.log2(yesCount/aggreg)) + ((noCount/aggreg)*math.log2(noCount/aggreg)))\n",
    "\n",
    "# fracture dataframe to export compute data\n",
    "tempStorage = df.groupby(['Outlook', 'Play']).size()['Rainy']\n",
    "\n",
    "# write values to variables\n",
    "yesCount = tempStorage['Yes']\n",
    "noCount = tempStorage['No']\n",
    "aggreg = yesCount + noCount\n",
    "aggregRainy = aggreg\n",
    "\n",
    "entropyRainy = -(((yesCount/aggreg)*math.log2(yesCount/aggreg)) + ((noCount/aggreg)*math.log2(noCount/aggreg)))"
   ]
  },
  {
   "cell_type": "markdown",
   "metadata": {},
   "source": [
    "Print out the calculated Entropy values"
   ]
  },
  {
   "cell_type": "code",
   "execution_count": 10,
   "metadata": {},
   "outputs": [
    {
     "name": "stdout",
     "output_type": "stream",
     "text": [
      "H(Outlook == Overcast) = -0.00000\n",
      "H(Outlook == Sunny) = 0.97095\n",
      "H(Outlook == Rainy) = 0.97095\n"
     ]
    }
   ],
   "source": [
    "print(\"H(Outlook == Overcast) = {0:.5f}\".format(entropyOvercast))\n",
    "print(\"H(Outlook == Sunny) = {0:.5f}\".format(entropySunny))\n",
    "print(\"H(Outlook == Rainy) = {0:.5f}\".format(entropyRainy))"
   ]
  },
  {
   "cell_type": "markdown",
   "metadata": {},
   "source": [
    "#### Information Gain for column Outlook\n",
    "\n",
    "Finally the Information Gain analyse for the selected column 'Outlook'"
   ]
  },
  {
   "cell_type": "code",
   "execution_count": 11,
   "metadata": {},
   "outputs": [],
   "source": [
    "# Entropy offset\n",
    "offsetEntropy = (aggregOvercast/aggregTotal)*entropyOvercast + (aggregSunny/aggregTotal)*entropySunny + (aggregRainy/aggregTotal)*entropyRainy\n",
    "# Information Gain\n",
    "infoGain = entropyTotal - offsetEntropy\n",
    "\n",
    "# Save IG to dictionary\n",
    "infoGainDict = dict()\n",
    "infoGainDict['Root'] = dict()\n",
    "infoGainDict['Root']['Outlook'] = infoGain"
   ]
  },
  {
   "cell_type": "markdown",
   "metadata": {},
   "source": [
    "Print out the calculated Information Gain value"
   ]
  },
  {
   "cell_type": "code",
   "execution_count": 12,
   "metadata": {},
   "outputs": [
    {
     "name": "stdout",
     "output_type": "stream",
     "text": [
      "IG(S, outlook) = 0.24675\n",
      "\n"
     ]
    }
   ],
   "source": [
    "print(\"IG(S, outlook) = {0:.5f}\\n\".format(infoGain))"
   ]
  },
  {
   "cell_type": "markdown",
   "metadata": {},
   "source": [
    "### Entropy of column Temperature\n",
    "***\n",
    "\n",
    "Repeat procedure for each column"
   ]
  },
  {
   "cell_type": "code",
   "execution_count": 13,
   "metadata": {},
   "outputs": [
    {
     "name": "stdout",
     "output_type": "stream",
     "text": [
      "H(Temperature == Hot) = 1.00000\n",
      "H(Temperature == Mild) = 0.91830\n",
      "H(Temperature == Cool) = 0.81128\n"
     ]
    }
   ],
   "source": [
    "# fracture dataframe to export data to compute \n",
    "tempStorage = df.groupby(['Temperature', 'Play']).size()['Hot']\n",
    "\n",
    "# write values to variables\n",
    "yesCount = tempStorage['Yes']\n",
    "noCount = tempStorage['No']\n",
    "aggreg = yesCount + noCount\n",
    "aggregHot = aggreg\n",
    "\n",
    "entropyHot = -(((yesCount/aggreg)*math.log2(yesCount/aggreg)) + ((noCount/aggreg)*math.log2(noCount/aggreg)))\n",
    "\n",
    "##############################################\n",
    "# fracture dataframe to export data to compute \n",
    "tempStorage = df.groupby(['Temperature', 'Play']).size()['Mild']\n",
    "\n",
    "# write values to variables\n",
    "yesCount = tempStorage['Yes']\n",
    "noCount = tempStorage['No']\n",
    "aggreg = yesCount + noCount\n",
    "aggregMild = aggreg\n",
    "\n",
    "entropyMild = -(((yesCount/aggreg)*math.log2(yesCount/aggreg)) + ((noCount/aggreg)*math.log2(noCount/aggreg)))\n",
    "\n",
    "##############################################\n",
    "# fracture dataframe to export data to compute \n",
    "tempStorage = df.groupby(['Temperature', 'Play']).size()['Cool']\n",
    "\n",
    "# write values to variables\n",
    "yesCount = tempStorage['Yes']\n",
    "noCount = tempStorage['No']\n",
    "aggreg = yesCount + noCount\n",
    "aggregCool = aggreg\n",
    "\n",
    "entropyCool = -(((yesCount/aggreg)*math.log2(yesCount/aggreg)) + ((noCount/aggreg)*math.log2(noCount/aggreg)))\n",
    "\n",
    "print(\"H(Temperature == Hot) = {0:.5f}\".format(entropyHot))\n",
    "print(\"H(Temperature == Mild) = {0:.5f}\".format(entropyMild))\n",
    "print(\"H(Temperature == Cool) = {0:.5f}\".format(entropyCool))"
   ]
  },
  {
   "cell_type": "markdown",
   "metadata": {},
   "source": [
    "#### Information Gain for column Temperature"
   ]
  },
  {
   "cell_type": "code",
   "execution_count": 14,
   "metadata": {},
   "outputs": [
    {
     "name": "stdout",
     "output_type": "stream",
     "text": [
      "IG(S, Temperature) = 0.02922\n",
      "\n"
     ]
    }
   ],
   "source": [
    "offsetEntropy = (aggregHot/aggregTotal)*entropyHot + (aggregMild/aggregTotal)*entropyMild + (aggregCool/aggregTotal)*entropyCool\n",
    "infoGain = entropyTotal - offsetEntropy\n",
    "\n",
    "infoGainDict['Root']['Temperature'] = infoGain\n",
    "\n",
    "print(\"IG(S, Temperature) = {0:.5f}\\n\".format(infoGain))"
   ]
  },
  {
   "cell_type": "markdown",
   "metadata": {},
   "source": [
    "### Entropy of column Humidity\n",
    "***\n",
    "\n"
   ]
  },
  {
   "cell_type": "code",
   "execution_count": 15,
   "metadata": {},
   "outputs": [
    {
     "name": "stdout",
     "output_type": "stream",
     "text": [
      "H(Humidity == High) = 0.98523\n",
      "H(Humidity == Normal) = 0.59167\n"
     ]
    }
   ],
   "source": [
    "# fracture dataframe to export data to compute \n",
    "tempStorage = df.groupby(['Humidity', 'Play']).size()['High']\n",
    "\n",
    "# write values to variables\n",
    "yesCount = tempStorage['Yes']\n",
    "noCount = tempStorage['No']\n",
    "aggreg = yesCount + noCount\n",
    "aggregHigh = aggreg\n",
    "\n",
    "entropyHigh = -(((yesCount/aggreg)*math.log2(yesCount/aggreg)) + ((noCount/aggreg)*math.log2(noCount/aggreg)))\n",
    "\n",
    "##############################################\n",
    "# fracture dataframe to export data to compute \n",
    "tempStorage = df.groupby(['Humidity', 'Play']).size()['Normal']\n",
    "\n",
    "# write values to variables\n",
    "yesCount = tempStorage['Yes']\n",
    "noCount = tempStorage['No']\n",
    "aggreg = yesCount + noCount\n",
    "aggregNormal = aggreg\n",
    "\n",
    "entropyNormal = -(((yesCount/aggreg)*math.log2(yesCount/aggreg)) + ((noCount/aggreg)*math.log2(noCount/aggreg)))\n",
    "\n",
    "print(\"H(Humidity == High) = {0:.5f}\".format(entropyHigh))\n",
    "print(\"H(Humidity == Normal) = {0:.5f}\".format(entropyNormal))"
   ]
  },
  {
   "cell_type": "markdown",
   "metadata": {},
   "source": [
    "#### Information Gain for column Humidity"
   ]
  },
  {
   "cell_type": "code",
   "execution_count": 16,
   "metadata": {},
   "outputs": [
    {
     "name": "stdout",
     "output_type": "stream",
     "text": [
      "IG(S, Humidity) = 0.15184\n",
      "\n"
     ]
    }
   ],
   "source": [
    "offsetEntropy = (aggregHigh/aggregTotal)*entropyHigh + (aggregNormal/aggregTotal)*entropyNormal\n",
    "infoGain = entropyTotal - offsetEntropy\n",
    "\n",
    "infoGainDict['Root']['Humidity'] = infoGain\n",
    "\n",
    "print(\"IG(S, Humidity) = {0:.5f}\\n\".format(infoGain))"
   ]
  },
  {
   "cell_type": "markdown",
   "metadata": {},
   "source": [
    "### Entropy of column Windy\n",
    "***"
   ]
  },
  {
   "cell_type": "code",
   "execution_count": 17,
   "metadata": {},
   "outputs": [
    {
     "name": "stdout",
     "output_type": "stream",
     "text": [
      "H(Windy == True) = 1.00000\n",
      "H(Windy == False) = 0.81128\n"
     ]
    }
   ],
   "source": [
    "# fracture dataframe to export data to compute \n",
    "tempStorage = df.groupby(['Windy', 'Play']).size()['T']\n",
    "\n",
    "# write values to variables\n",
    "yesCount = tempStorage['Yes']\n",
    "noCount = tempStorage['No']\n",
    "aggreg = yesCount + noCount\n",
    "aggregTrue = aggreg\n",
    "\n",
    "entropyTrue = -(((yesCount/aggreg)*math.log2(yesCount/aggreg)) + ((noCount/aggreg)*math.log2(noCount/aggreg)))\n",
    "\n",
    "##############################################\n",
    "# fracture dataframe to export data to compute \n",
    "tempStorage = df.groupby(['Windy', 'Play']).size()['F']\n",
    "\n",
    "# write values to variables\n",
    "yesCount = tempStorage['Yes']\n",
    "noCount = tempStorage['No']\n",
    "aggreg = yesCount + noCount\n",
    "aggregFalse = aggreg\n",
    "\n",
    "entropyFalse = -(((yesCount/aggreg)*math.log2(yesCount/aggreg)) + ((noCount/aggreg)*math.log2(noCount/aggreg)))\n",
    "\n",
    "print(\"H(Windy == True) = {0:.5f}\".format(entropyTrue))\n",
    "print(\"H(Windy == False) = {0:.5f}\".format(entropyFalse))"
   ]
  },
  {
   "cell_type": "markdown",
   "metadata": {},
   "source": [
    "#### Information Gain for column Windy"
   ]
  },
  {
   "cell_type": "code",
   "execution_count": 18,
   "metadata": {},
   "outputs": [
    {
     "name": "stdout",
     "output_type": "stream",
     "text": [
      "IG(S, Windy) = 0.04813\n",
      "\n"
     ]
    }
   ],
   "source": [
    "offsetEntropy = (aggregTrue/aggregTotal)*entropyTrue + (aggregFalse/aggregTotal)*entropyFalse\n",
    "infoGain = entropyTotal - offsetEntropy\n",
    "\n",
    "infoGainDict['Root']['Windy'] = infoGain\n",
    "\n",
    "print(\"IG(S, Windy) = {0:.5f}\\n\".format(infoGain))"
   ]
  },
  {
   "cell_type": "markdown",
   "metadata": {},
   "source": [
    "# Overview Information Gain for the Root-Node\n",
    "## Select Root-Node based on highest Information Gain value\n",
    "***\n",
    "\n",
    "Pretty print out the collected Information Gain vaules with column name.\n",
    "\n",
    "Reset of the dictionary with selected node as root."
   ]
  },
  {
   "cell_type": "code",
   "execution_count": 19,
   "metadata": {},
   "outputs": [
    {
     "name": "stdout",
     "output_type": "stream",
     "text": [
      "{'Root': {'Humidity': 0.15183550136234136,\n",
      "          'Outlook': 0.2467498197744391,\n",
      "          'Temperature': 0.029222565658954647,\n",
      "          'Windy': 0.04812703040826927}}\n",
      "\n",
      "Selected 'Outlook' because of value 0.24675\n",
      "{'Outlook': {}}\n"
     ]
    }
   ],
   "source": [
    "pprint.pprint(infoGainDict)\n",
    "print(\"\\nSelected '{0}' because of value {1:.5f}\".format(\"Outlook\", infoGainDict['Root']['Outlook']))\n",
    "\n",
    "infoGainDict.clear()\n",
    "infoGainDict[\"Outlook\"] = dict() \n",
    "print(infoGainDict)"
   ]
  },
  {
   "cell_type": "markdown",
   "metadata": {},
   "source": [
    "Decision tree as image\n",
    "\n",
    "![](img/root.png)"
   ]
  },
  {
   "cell_type": "markdown",
   "metadata": {},
   "source": [
    "## Branch Sunny\n",
    "***\n",
    "- __dfS__ - modified dataframe object to filter for specific string"
   ]
  },
  {
   "cell_type": "code",
   "execution_count": 20,
   "metadata": {},
   "outputs": [
    {
     "data": {
      "text/html": [
       "<div>\n",
       "<style scoped>\n",
       "    .dataframe tbody tr th:only-of-type {\n",
       "        vertical-align: middle;\n",
       "    }\n",
       "\n",
       "    .dataframe tbody tr th {\n",
       "        vertical-align: top;\n",
       "    }\n",
       "\n",
       "    .dataframe thead th {\n",
       "        text-align: right;\n",
       "    }\n",
       "</style>\n",
       "<table border=\"1\" class=\"dataframe\">\n",
       "  <thead>\n",
       "    <tr style=\"text-align: right;\">\n",
       "      <th></th>\n",
       "      <th>Outlook</th>\n",
       "      <th>Temperature</th>\n",
       "      <th>Humidity</th>\n",
       "      <th>Windy</th>\n",
       "      <th>Play</th>\n",
       "    </tr>\n",
       "  </thead>\n",
       "  <tbody>\n",
       "    <tr>\n",
       "      <th>0</th>\n",
       "      <td>Sunny</td>\n",
       "      <td>Hot</td>\n",
       "      <td>High</td>\n",
       "      <td>F</td>\n",
       "      <td>No</td>\n",
       "    </tr>\n",
       "    <tr>\n",
       "      <th>1</th>\n",
       "      <td>Sunny</td>\n",
       "      <td>Hot</td>\n",
       "      <td>High</td>\n",
       "      <td>T</td>\n",
       "      <td>No</td>\n",
       "    </tr>\n",
       "    <tr>\n",
       "      <th>7</th>\n",
       "      <td>Sunny</td>\n",
       "      <td>Mild</td>\n",
       "      <td>High</td>\n",
       "      <td>F</td>\n",
       "      <td>No</td>\n",
       "    </tr>\n",
       "    <tr>\n",
       "      <th>8</th>\n",
       "      <td>Sunny</td>\n",
       "      <td>Cool</td>\n",
       "      <td>Normal</td>\n",
       "      <td>F</td>\n",
       "      <td>Yes</td>\n",
       "    </tr>\n",
       "    <tr>\n",
       "      <th>10</th>\n",
       "      <td>Sunny</td>\n",
       "      <td>Mild</td>\n",
       "      <td>Normal</td>\n",
       "      <td>T</td>\n",
       "      <td>Yes</td>\n",
       "    </tr>\n",
       "  </tbody>\n",
       "</table>\n",
       "</div>"
      ],
      "text/plain": [
       "   Outlook Temperature Humidity Windy Play\n",
       "0    Sunny         Hot     High     F   No\n",
       "1    Sunny         Hot     High     T   No\n",
       "7    Sunny        Mild     High     F   No\n",
       "8    Sunny        Cool   Normal     F  Yes\n",
       "10   Sunny        Mild   Normal     T  Yes"
      ]
     },
     "execution_count": 20,
     "metadata": {},
     "output_type": "execute_result"
    }
   ],
   "source": [
    "dfS = df.loc[df['Outlook'] == 'Sunny']\n",
    "dfS"
   ]
  },
  {
   "cell_type": "markdown",
   "metadata": {},
   "source": [
    "### Total entropy of branch Sunny dataframe\n",
    "***"
   ]
  },
  {
   "cell_type": "code",
   "execution_count": 21,
   "metadata": {},
   "outputs": [
    {
     "name": "stdout",
     "output_type": "stream",
     "text": [
      "H(S) = 0.97095\n",
      "\n"
     ]
    }
   ],
   "source": [
    "# fracture dataframe to export compute data\n",
    "tempStorage = dfS.groupby(['Play']).size()\n",
    "\n",
    "# write values to variables\n",
    "yesCount = tempStorage['Yes']\n",
    "noCount = tempStorage['No']\n",
    "aggreg = yesCount + noCount\n",
    "aggregTotal = aggreg\n",
    "\n",
    "entropyTotal = -(((yesCount/aggreg)*math.log2(yesCount/aggreg)) + ((noCount/aggreg)*math.log2(noCount/aggreg)))\n",
    "\n",
    "print(\"H(S) = {0:.5f}\\n\".format(entropyTotal))"
   ]
  },
  {
   "cell_type": "markdown",
   "metadata": {},
   "source": [
    "### Entropy of column Temperature for branch Sunny\n",
    "***"
   ]
  },
  {
   "cell_type": "code",
   "execution_count": 22,
   "metadata": {},
   "outputs": [
    {
     "name": "stdout",
     "output_type": "stream",
     "text": [
      "H(Temperature == Hot) = -0.00000\n",
      "H(Temperature == Mild) = 1.00000\n",
      "H(Temperature == Cool) = -0.00000\n"
     ]
    }
   ],
   "source": [
    "# fracture dataframe to export compute data\n",
    "tempStorage = dfS.groupby(['Temperature', 'Play']).size()['Hot']\n",
    "\n",
    "# write values to variables\n",
    "yesCount = 0\n",
    "noCount = tempStorage['No']\n",
    "aggreg = yesCount + noCount\n",
    "aggregHot = aggreg\n",
    "\n",
    "entropyHot = -((noCount/aggreg)*math.log2(noCount/aggreg))\n",
    "\n",
    "##############################################\n",
    "# fracture dataframe to export compute data\n",
    "tempStorage = dfS.groupby(['Temperature', 'Play']).size()['Mild']\n",
    "\n",
    "# write values to variables\n",
    "yesCount = tempStorage['Yes']\n",
    "noCount = tempStorage['No']\n",
    "aggreg = yesCount + noCount\n",
    "aggregMild = aggreg\n",
    "\n",
    "entropyMild = -(((yesCount/aggreg)*math.log2(yesCount/aggreg)) + ((noCount/aggreg)*math.log2(noCount/aggreg)))\n",
    "\n",
    "##############################################\n",
    "# fracture dataframe to export compute data\n",
    "tempStorage = dfS.groupby(['Temperature', 'Play']).size()['Cool']\n",
    "\n",
    "# write values to variables\n",
    "yesCount = tempStorage['Yes']\n",
    "noCount = 0\n",
    "aggreg = yesCount + noCount\n",
    "aggregCool = aggreg\n",
    "\n",
    "entropyCool = -((yesCount/aggreg)*math.log2(yesCount/aggreg))\n",
    "\n",
    "print(\"H(Temperature == Hot) = {0:.5f}\".format(entropyHot))\n",
    "print(\"H(Temperature == Mild) = {0:.5f}\".format(entropyMild))\n",
    "print(\"H(Temperature == Cool) = {0:.5f}\".format(entropyCool))"
   ]
  },
  {
   "cell_type": "markdown",
   "metadata": {},
   "source": [
    "#### Information Gain for column Temperature"
   ]
  },
  {
   "cell_type": "code",
   "execution_count": 23,
   "metadata": {},
   "outputs": [
    {
     "name": "stdout",
     "output_type": "stream",
     "text": [
      "IG(S, Temperature) = 0.57095\n",
      "\n"
     ]
    }
   ],
   "source": [
    "offsetEntropy = (aggregHot/aggregTotal)*entropyHot + (aggregMild/aggregTotal)*entropyMild + (aggregCool/aggregTotal)*entropyCool\n",
    "infoGain = entropyTotal - offsetEntropy\n",
    "\n",
    "infoGainDict[\"Outlook\"]['BranchSunny'] = dict()\n",
    "infoGainDict['Outlook']['BranchSunny']['Temperature'] = infoGain\n",
    "\n",
    "print(\"IG(S, Temperature) = {0:.5f}\\n\".format(infoGain))"
   ]
  },
  {
   "cell_type": "markdown",
   "metadata": {},
   "source": [
    "### Entropy of column Humidity for branch Sunny\n",
    "***"
   ]
  },
  {
   "cell_type": "code",
   "execution_count": 24,
   "metadata": {},
   "outputs": [
    {
     "name": "stdout",
     "output_type": "stream",
     "text": [
      "H(Humidity == High) = -0.00000\n",
      "H(Humidity == Normal) = -0.00000\n"
     ]
    }
   ],
   "source": [
    "# fracture dataframe to export compute data\n",
    "tempStorage = dfS.groupby(['Humidity', 'Play']).size()['High']\n",
    "\n",
    "# write values to variables\n",
    "yesCount = 0\n",
    "noCount = tempStorage['No']\n",
    "aggreg = yesCount + noCount\n",
    "aggregHigh = aggreg\n",
    "\n",
    "entropyHigh = -((noCount/aggreg)*math.log2(noCount/aggreg))\n",
    "\n",
    "##############################################\n",
    "# fracture dataframe to export compute data\n",
    "tempStorage = dfS.groupby(['Humidity', 'Play']).size()['Normal']\n",
    "\n",
    "# write values to variables\n",
    "yesCount = tempStorage['Yes']\n",
    "noCount = 0\n",
    "aggreg = yesCount + noCount\n",
    "aggregNormal = aggreg\n",
    "\n",
    "entropyNormal = -((yesCount/aggreg)*math.log2(yesCount/aggreg))\n",
    "\n",
    "print(\"H(Humidity == High) = {0:.5f}\".format(entropyHigh))\n",
    "print(\"H(Humidity == Normal) = {0:.5f}\".format(entropyNormal))"
   ]
  },
  {
   "cell_type": "markdown",
   "metadata": {},
   "source": [
    "#### Information Gain for column Humidity"
   ]
  },
  {
   "cell_type": "code",
   "execution_count": 25,
   "metadata": {},
   "outputs": [
    {
     "name": "stdout",
     "output_type": "stream",
     "text": [
      "IG(S, Humidity) = 0.97095\n",
      "\n"
     ]
    }
   ],
   "source": [
    "offsetEntropy = (aggregHigh/aggregTotal)*entropyHigh + (aggregNormal/aggregTotal)*entropyNormal\n",
    "infoGain = entropyTotal - offsetEntropy\n",
    "\n",
    "infoGainDict['Outlook']['BranchSunny']['Humidity'] = infoGain\n",
    "\n",
    "print(\"IG(S, Humidity) = {0:.5f}\\n\".format(infoGain))"
   ]
  },
  {
   "cell_type": "markdown",
   "metadata": {},
   "source": [
    "### Entropy of column Windy for branch Sunny \n",
    "***"
   ]
  },
  {
   "cell_type": "code",
   "execution_count": 26,
   "metadata": {},
   "outputs": [
    {
     "name": "stdout",
     "output_type": "stream",
     "text": [
      "H(Windy == True) = 1.00000\n",
      "H(Windy == False) = 0.91830\n"
     ]
    }
   ],
   "source": [
    "# fracture dataframe to export compute data\n",
    "tempStorage = dfS.groupby(['Windy', 'Play']).size()['T']\n",
    "\n",
    "# write values to variables\n",
    "yesCount = tempStorage['Yes']\n",
    "noCount = tempStorage['No']\n",
    "aggreg = yesCount + noCount\n",
    "aggregTrue = aggreg\n",
    "\n",
    "entropyTrue = -(((yesCount/aggreg)*math.log2(yesCount/aggreg)) + ((noCount/aggreg)*math.log2(noCount/aggreg)))\n",
    "\n",
    "##############################################\n",
    "# fracture dataframe to export compute data\n",
    "tempStorage = dfS.groupby(['Windy', 'Play']).size()['F']\n",
    "\n",
    "# write values to variables\n",
    "yesCount = tempStorage['Yes']\n",
    "noCount = tempStorage['No']\n",
    "aggreg = yesCount + noCount\n",
    "aggregFalse = aggreg\n",
    "\n",
    "entropyFalse = -(((yesCount/aggreg)*math.log2(yesCount/aggreg)) + ((noCount/aggreg)*math.log2(noCount/aggreg)))\n",
    "\n",
    "print(\"H(Windy == True) = {0:.5f}\".format(entropyTrue))\n",
    "print(\"H(Windy == False) = {0:.5f}\".format(entropyFalse))"
   ]
  },
  {
   "cell_type": "markdown",
   "metadata": {},
   "source": [
    "#### Information Gain for column Windy"
   ]
  },
  {
   "cell_type": "code",
   "execution_count": 27,
   "metadata": {},
   "outputs": [
    {
     "name": "stdout",
     "output_type": "stream",
     "text": [
      "IG(S, Windy) = 0.01997\n",
      "\n"
     ]
    }
   ],
   "source": [
    "offsetEntropy = (aggregTrue/aggregTotal)*entropyTrue + (aggregFalse/aggregTotal)*entropyFalse\n",
    "infoGain = entropyTotal - offsetEntropy\n",
    "\n",
    "infoGainDict['Outlook']['BranchSunny']['Windy'] = infoGain\n",
    "\n",
    "print(\"IG(S, Windy) = {0:.5f}\\n\".format(infoGain))"
   ]
  },
  {
   "cell_type": "markdown",
   "metadata": {},
   "source": [
    "## Overview Information Gain Branch Sunny\n",
    "### Select Node based on highest Information Gain value\n",
    "***"
   ]
  },
  {
   "cell_type": "code",
   "execution_count": 28,
   "metadata": {},
   "outputs": [
    {
     "name": "stdout",
     "output_type": "stream",
     "text": [
      "{'Outlook': {'BranchSunny': {'Humidity': 0.9709505944546686,\n",
      "                             'Temperature': 0.5709505944546686,\n",
      "                             'Windy': 0.01997309402197489}}}\n",
      "\n",
      "Selected 'Humidity' because of value 0.97095\n",
      "{'Outlook': {'BranchSunny': {'Humidity': {}}}}\n"
     ]
    }
   ],
   "source": [
    "pprint.pprint(infoGainDict)\n",
    "\n",
    "print(\"\\nSelected '{0}' because of value {1:.5f}\".format(\"Humidity\", infoGainDict['Outlook']['BranchSunny']['Humidity']))\n",
    "\n",
    "infoGainDict['Outlook']['BranchSunny'].clear()\n",
    "infoGainDict['Outlook']['BranchSunny']['Humidity'] = dict()\n",
    "pprint.pprint(infoGainDict)"
   ]
  },
  {
   "cell_type": "markdown",
   "metadata": {},
   "source": [
    "Decision tree\n",
    "\n",
    "![](img/firstInnerNode.png)"
   ]
  },
  {
   "cell_type": "markdown",
   "metadata": {},
   "source": [
    "## Subnode Humidity of Branch Sunny \n",
    "***\n",
    "### High value"
   ]
  },
  {
   "cell_type": "code",
   "execution_count": 29,
   "metadata": {},
   "outputs": [
    {
     "data": {
      "text/html": [
       "<div>\n",
       "<style scoped>\n",
       "    .dataframe tbody tr th:only-of-type {\n",
       "        vertical-align: middle;\n",
       "    }\n",
       "\n",
       "    .dataframe tbody tr th {\n",
       "        vertical-align: top;\n",
       "    }\n",
       "\n",
       "    .dataframe thead th {\n",
       "        text-align: right;\n",
       "    }\n",
       "</style>\n",
       "<table border=\"1\" class=\"dataframe\">\n",
       "  <thead>\n",
       "    <tr style=\"text-align: right;\">\n",
       "      <th></th>\n",
       "      <th>Outlook</th>\n",
       "      <th>Temperature</th>\n",
       "      <th>Humidity</th>\n",
       "      <th>Windy</th>\n",
       "      <th>Play</th>\n",
       "    </tr>\n",
       "  </thead>\n",
       "  <tbody>\n",
       "    <tr>\n",
       "      <th>0</th>\n",
       "      <td>Sunny</td>\n",
       "      <td>Hot</td>\n",
       "      <td>High</td>\n",
       "      <td>F</td>\n",
       "      <td>No</td>\n",
       "    </tr>\n",
       "    <tr>\n",
       "      <th>1</th>\n",
       "      <td>Sunny</td>\n",
       "      <td>Hot</td>\n",
       "      <td>High</td>\n",
       "      <td>T</td>\n",
       "      <td>No</td>\n",
       "    </tr>\n",
       "    <tr>\n",
       "      <th>7</th>\n",
       "      <td>Sunny</td>\n",
       "      <td>Mild</td>\n",
       "      <td>High</td>\n",
       "      <td>F</td>\n",
       "      <td>No</td>\n",
       "    </tr>\n",
       "  </tbody>\n",
       "</table>\n",
       "</div>"
      ],
      "text/plain": [
       "  Outlook Temperature Humidity Windy Play\n",
       "0   Sunny         Hot     High     F   No\n",
       "1   Sunny         Hot     High     T   No\n",
       "7   Sunny        Mild     High     F   No"
      ]
     },
     "execution_count": 29,
     "metadata": {},
     "output_type": "execute_result"
    }
   ],
   "source": [
    "dfSH = dfS.loc[dfS['Humidity'] == 'High']\n",
    "dfSH"
   ]
  },
  {
   "cell_type": "markdown",
   "metadata": {},
   "source": [
    "All results of the dataframe are \"No\", hence no calculation of entropy necessary"
   ]
  },
  {
   "cell_type": "code",
   "execution_count": 30,
   "metadata": {},
   "outputs": [],
   "source": [
    "infoGainDict[\"Outlook\"]['BranchSunny']['Humidity']['High'] = \"No\""
   ]
  },
  {
   "cell_type": "markdown",
   "metadata": {},
   "source": [
    "Leaf end - No\n",
    "\n",
    "Decision tree\n",
    "\n",
    "![](img/fIN1.png)"
   ]
  },
  {
   "cell_type": "markdown",
   "metadata": {},
   "source": [
    "### Normal value"
   ]
  },
  {
   "cell_type": "code",
   "execution_count": 31,
   "metadata": {},
   "outputs": [
    {
     "data": {
      "text/html": [
       "<div>\n",
       "<style scoped>\n",
       "    .dataframe tbody tr th:only-of-type {\n",
       "        vertical-align: middle;\n",
       "    }\n",
       "\n",
       "    .dataframe tbody tr th {\n",
       "        vertical-align: top;\n",
       "    }\n",
       "\n",
       "    .dataframe thead th {\n",
       "        text-align: right;\n",
       "    }\n",
       "</style>\n",
       "<table border=\"1\" class=\"dataframe\">\n",
       "  <thead>\n",
       "    <tr style=\"text-align: right;\">\n",
       "      <th></th>\n",
       "      <th>Outlook</th>\n",
       "      <th>Temperature</th>\n",
       "      <th>Humidity</th>\n",
       "      <th>Windy</th>\n",
       "      <th>Play</th>\n",
       "    </tr>\n",
       "  </thead>\n",
       "  <tbody>\n",
       "    <tr>\n",
       "      <th>8</th>\n",
       "      <td>Sunny</td>\n",
       "      <td>Cool</td>\n",
       "      <td>Normal</td>\n",
       "      <td>F</td>\n",
       "      <td>Yes</td>\n",
       "    </tr>\n",
       "    <tr>\n",
       "      <th>10</th>\n",
       "      <td>Sunny</td>\n",
       "      <td>Mild</td>\n",
       "      <td>Normal</td>\n",
       "      <td>T</td>\n",
       "      <td>Yes</td>\n",
       "    </tr>\n",
       "  </tbody>\n",
       "</table>\n",
       "</div>"
      ],
      "text/plain": [
       "   Outlook Temperature Humidity Windy Play\n",
       "8    Sunny        Cool   Normal     F  Yes\n",
       "10   Sunny        Mild   Normal     T  Yes"
      ]
     },
     "execution_count": 31,
     "metadata": {},
     "output_type": "execute_result"
    }
   ],
   "source": [
    "dfSH = dfS.loc[dfS['Humidity'] == 'Normal']\n",
    "dfSH"
   ]
  },
  {
   "cell_type": "markdown",
   "metadata": {},
   "source": [
    "All results of the dataframe are \"Yes\", hence no calculation of entropy necessary"
   ]
  },
  {
   "cell_type": "code",
   "execution_count": 32,
   "metadata": {},
   "outputs": [],
   "source": [
    "infoGainDict[\"Outlook\"]['BranchSunny']['Humidity']['Normal'] = \"Yes\""
   ]
  },
  {
   "cell_type": "markdown",
   "metadata": {},
   "source": [
    "Leaf end - Yes\n",
    "\n",
    "Decision tree\n",
    "\n",
    "![](img/fIN2.png)"
   ]
  },
  {
   "cell_type": "markdown",
   "metadata": {},
   "source": [
    "## Branch Overcast\n",
    "***"
   ]
  },
  {
   "cell_type": "code",
   "execution_count": 33,
   "metadata": {},
   "outputs": [
    {
     "data": {
      "text/html": [
       "<div>\n",
       "<style scoped>\n",
       "    .dataframe tbody tr th:only-of-type {\n",
       "        vertical-align: middle;\n",
       "    }\n",
       "\n",
       "    .dataframe tbody tr th {\n",
       "        vertical-align: top;\n",
       "    }\n",
       "\n",
       "    .dataframe thead th {\n",
       "        text-align: right;\n",
       "    }\n",
       "</style>\n",
       "<table border=\"1\" class=\"dataframe\">\n",
       "  <thead>\n",
       "    <tr style=\"text-align: right;\">\n",
       "      <th></th>\n",
       "      <th>Outlook</th>\n",
       "      <th>Temperature</th>\n",
       "      <th>Humidity</th>\n",
       "      <th>Windy</th>\n",
       "      <th>Play</th>\n",
       "    </tr>\n",
       "  </thead>\n",
       "  <tbody>\n",
       "    <tr>\n",
       "      <th>2</th>\n",
       "      <td>Overcast</td>\n",
       "      <td>Hot</td>\n",
       "      <td>High</td>\n",
       "      <td>F</td>\n",
       "      <td>Yes</td>\n",
       "    </tr>\n",
       "    <tr>\n",
       "      <th>6</th>\n",
       "      <td>Overcast</td>\n",
       "      <td>Cool</td>\n",
       "      <td>Normal</td>\n",
       "      <td>T</td>\n",
       "      <td>Yes</td>\n",
       "    </tr>\n",
       "    <tr>\n",
       "      <th>11</th>\n",
       "      <td>Overcast</td>\n",
       "      <td>Mild</td>\n",
       "      <td>High</td>\n",
       "      <td>T</td>\n",
       "      <td>Yes</td>\n",
       "    </tr>\n",
       "    <tr>\n",
       "      <th>12</th>\n",
       "      <td>Overcast</td>\n",
       "      <td>Hot</td>\n",
       "      <td>Normal</td>\n",
       "      <td>F</td>\n",
       "      <td>Yes</td>\n",
       "    </tr>\n",
       "  </tbody>\n",
       "</table>\n",
       "</div>"
      ],
      "text/plain": [
       "     Outlook Temperature Humidity Windy Play\n",
       "2   Overcast         Hot     High     F  Yes\n",
       "6   Overcast        Cool   Normal     T  Yes\n",
       "11  Overcast        Mild     High     T  Yes\n",
       "12  Overcast         Hot   Normal     F  Yes"
      ]
     },
     "execution_count": 33,
     "metadata": {},
     "output_type": "execute_result"
    }
   ],
   "source": [
    "dfO = df.loc[df['Outlook'] == 'Overcast']\n",
    "dfO"
   ]
  },
  {
   "cell_type": "markdown",
   "metadata": {},
   "source": [
    "All results of the dataframe are \"Yes\", hence no calculation of entropy necessary"
   ]
  },
  {
   "cell_type": "code",
   "execution_count": 34,
   "metadata": {},
   "outputs": [],
   "source": [
    "infoGainDict[\"Outlook\"]['BranchOvercast'] = \"Yes\""
   ]
  },
  {
   "cell_type": "markdown",
   "metadata": {},
   "source": [
    "Leaf end - Yes\n",
    "\n",
    "Decision tree\n",
    "\n",
    "![](img/secondInnerNode.png)"
   ]
  },
  {
   "cell_type": "markdown",
   "metadata": {},
   "source": [
    "## Branch Rainy\n",
    "***"
   ]
  },
  {
   "cell_type": "code",
   "execution_count": 35,
   "metadata": {},
   "outputs": [
    {
     "data": {
      "text/html": [
       "<div>\n",
       "<style scoped>\n",
       "    .dataframe tbody tr th:only-of-type {\n",
       "        vertical-align: middle;\n",
       "    }\n",
       "\n",
       "    .dataframe tbody tr th {\n",
       "        vertical-align: top;\n",
       "    }\n",
       "\n",
       "    .dataframe thead th {\n",
       "        text-align: right;\n",
       "    }\n",
       "</style>\n",
       "<table border=\"1\" class=\"dataframe\">\n",
       "  <thead>\n",
       "    <tr style=\"text-align: right;\">\n",
       "      <th></th>\n",
       "      <th>Outlook</th>\n",
       "      <th>Temperature</th>\n",
       "      <th>Humidity</th>\n",
       "      <th>Windy</th>\n",
       "      <th>Play</th>\n",
       "    </tr>\n",
       "  </thead>\n",
       "  <tbody>\n",
       "    <tr>\n",
       "      <th>3</th>\n",
       "      <td>Rainy</td>\n",
       "      <td>Mild</td>\n",
       "      <td>High</td>\n",
       "      <td>F</td>\n",
       "      <td>Yes</td>\n",
       "    </tr>\n",
       "    <tr>\n",
       "      <th>4</th>\n",
       "      <td>Rainy</td>\n",
       "      <td>Cool</td>\n",
       "      <td>Normal</td>\n",
       "      <td>F</td>\n",
       "      <td>Yes</td>\n",
       "    </tr>\n",
       "    <tr>\n",
       "      <th>5</th>\n",
       "      <td>Rainy</td>\n",
       "      <td>Cool</td>\n",
       "      <td>Normal</td>\n",
       "      <td>T</td>\n",
       "      <td>No</td>\n",
       "    </tr>\n",
       "    <tr>\n",
       "      <th>9</th>\n",
       "      <td>Rainy</td>\n",
       "      <td>Mild</td>\n",
       "      <td>Normal</td>\n",
       "      <td>F</td>\n",
       "      <td>Yes</td>\n",
       "    </tr>\n",
       "    <tr>\n",
       "      <th>13</th>\n",
       "      <td>Rainy</td>\n",
       "      <td>Mild</td>\n",
       "      <td>High</td>\n",
       "      <td>T</td>\n",
       "      <td>No</td>\n",
       "    </tr>\n",
       "  </tbody>\n",
       "</table>\n",
       "</div>"
      ],
      "text/plain": [
       "   Outlook Temperature Humidity Windy Play\n",
       "3    Rainy        Mild     High     F  Yes\n",
       "4    Rainy        Cool   Normal     F  Yes\n",
       "5    Rainy        Cool   Normal     T   No\n",
       "9    Rainy        Mild   Normal     F  Yes\n",
       "13   Rainy        Mild     High     T   No"
      ]
     },
     "execution_count": 35,
     "metadata": {},
     "output_type": "execute_result"
    }
   ],
   "source": [
    "dfR = df.loc[df['Outlook'] == 'Rainy']\n",
    "dfR"
   ]
  },
  {
   "cell_type": "markdown",
   "metadata": {},
   "source": [
    "### Total entropy of branch Rainy dataframe"
   ]
  },
  {
   "cell_type": "code",
   "execution_count": 36,
   "metadata": {},
   "outputs": [
    {
     "name": "stdout",
     "output_type": "stream",
     "text": [
      "H(S) = 0.97095\n",
      "\n"
     ]
    }
   ],
   "source": [
    "# fracture dataframe to export compute data\n",
    "tempStorage = dfR.groupby(['Play']).size()\n",
    "\n",
    "# write values to variables\n",
    "yesCount = tempStorage['Yes']\n",
    "noCount = tempStorage['No']\n",
    "aggreg = yesCount + noCount\n",
    "aggregTotal = aggreg\n",
    "\n",
    "entropyTotal = -(((yesCount/aggreg)*math.log2(yesCount/aggreg)) + ((noCount/aggreg)*math.log2(noCount/aggreg)))\n",
    "\n",
    "print(\"H(S) = {0:.5f}\\n\".format(entropyTotal))"
   ]
  },
  {
   "cell_type": "markdown",
   "metadata": {},
   "source": [
    "### Entropy of column Temperature for branch Rainy\n",
    "***"
   ]
  },
  {
   "cell_type": "code",
   "execution_count": 37,
   "metadata": {},
   "outputs": [
    {
     "name": "stdout",
     "output_type": "stream",
     "text": [
      "H(Temperature == Mild) = 0.91830\n",
      "H(Temperature == Cool) = 1.00000\n"
     ]
    }
   ],
   "source": [
    "# fracture dataframe to export compute data\n",
    "tempStorage = dfR.groupby(['Temperature', 'Play']).size()['Mild']\n",
    "\n",
    "# write values to variables\n",
    "yesCount = tempStorage['Yes']\n",
    "noCount = tempStorage['No']\n",
    "aggreg = yesCount + noCount\n",
    "aggregMild = aggreg\n",
    "\n",
    "entropyMild = -(((yesCount/aggreg)*math.log2(yesCount/aggreg)) + ((noCount/aggreg)*math.log2(noCount/aggreg)))\n",
    "\n",
    "##############################################\n",
    "# fracture dataframe to export compute data\n",
    "tempStorage = dfR.groupby(['Temperature', 'Play']).size()['Cool']\n",
    "\n",
    "# write values to variables\n",
    "yesCount = tempStorage['Yes']\n",
    "noCount = tempStorage['No']\n",
    "aggreg = yesCount + noCount\n",
    "aggregCool = aggreg\n",
    "\n",
    "entropyCool = -(((yesCount/aggreg)*math.log2(yesCount/aggreg)) + ((noCount/aggreg)*math.log2(noCount/aggreg)))\n",
    "\n",
    "print(\"H(Temperature == Mild) = {0:.5f}\".format(entropyMild))\n",
    "print(\"H(Temperature == Cool) = {0:.5f}\".format(entropyCool))"
   ]
  },
  {
   "cell_type": "markdown",
   "metadata": {},
   "source": [
    "#### Information Gain for column Temperature"
   ]
  },
  {
   "cell_type": "code",
   "execution_count": 38,
   "metadata": {},
   "outputs": [
    {
     "name": "stdout",
     "output_type": "stream",
     "text": [
      "IG(S, Temperature) = 0.01997\n",
      "\n"
     ]
    }
   ],
   "source": [
    "offsetEntropy = (aggregMild/aggregTotal)*entropyMild + (aggregCool/aggregTotal)*entropyCool\n",
    "infoGain = entropyTotal - offsetEntropy\n",
    "\n",
    "infoGainDict['Outlook']['BranchRainy'] = dict()\n",
    "infoGainDict['Outlook']['BranchRainy']['Temperature'] = infoGain\n",
    "\n",
    "print(\"IG(S, Temperature) = {0:.5f}\\n\".format(infoGain))"
   ]
  },
  {
   "cell_type": "markdown",
   "metadata": {},
   "source": [
    "### Entropy of column Humidity for branch Rainy\n",
    "***"
   ]
  },
  {
   "cell_type": "code",
   "execution_count": 39,
   "metadata": {},
   "outputs": [
    {
     "name": "stdout",
     "output_type": "stream",
     "text": [
      "H(Humidity == High) = 1.00000\n",
      "H(Humidity == Normal) = 0.91830\n"
     ]
    }
   ],
   "source": [
    "# fracture dataframe to export compute data\n",
    "tempStorage = dfR.groupby(['Humidity', 'Play']).size()['High']\n",
    "\n",
    "# write values to variables\n",
    "yesCount = tempStorage['Yes']\n",
    "noCount = tempStorage['No']\n",
    "aggreg = yesCount + noCount\n",
    "aggregHigh = aggreg\n",
    "\n",
    "entropyHigh = -(((yesCount/aggreg)*math.log2(yesCount/aggreg)) + ((noCount/aggreg)*math.log2(noCount/aggreg)))\n",
    "\n",
    "##############################################\n",
    "# fracture dataframe to export compute data\n",
    "tempStorage = dfR.groupby(['Humidity', 'Play']).size()['Normal']\n",
    "\n",
    "# write values to variables\n",
    "yesCount = tempStorage['Yes']\n",
    "noCount = tempStorage['No']\n",
    "aggreg = yesCount + noCount\n",
    "aggregNormal = aggreg\n",
    "\n",
    "entropyNormal = -(((yesCount/aggreg)*math.log2(yesCount/aggreg)) + ((noCount/aggreg)*math.log2(noCount/aggreg)))\n",
    "\n",
    "print(\"H(Humidity == High) = {0:.5f}\".format(entropyHigh))\n",
    "print(\"H(Humidity == Normal) = {0:.5f}\".format(entropyNormal))"
   ]
  },
  {
   "cell_type": "markdown",
   "metadata": {},
   "source": [
    "#### Information Gain for column Humidity"
   ]
  },
  {
   "cell_type": "code",
   "execution_count": 40,
   "metadata": {},
   "outputs": [
    {
     "name": "stdout",
     "output_type": "stream",
     "text": [
      "IG(S, Humidity) = 0.01997\n",
      "\n"
     ]
    }
   ],
   "source": [
    "offsetEntropy = (aggregHigh/aggregTotal)*entropyHigh + (aggregNormal/aggregTotal)*entropyNormal\n",
    "infoGain = entropyTotal - offsetEntropy\n",
    "\n",
    "infoGainDict['Outlook']['BranchRainy']['Humidity'] = infoGain\n",
    "\n",
    "print(\"IG(S, Humidity) = {0:.5f}\\n\".format(infoGain))"
   ]
  },
  {
   "cell_type": "markdown",
   "metadata": {},
   "source": [
    "### Entropy of column Windy for branch Rainy\n",
    "***"
   ]
  },
  {
   "cell_type": "code",
   "execution_count": 41,
   "metadata": {},
   "outputs": [
    {
     "name": "stdout",
     "output_type": "stream",
     "text": [
      "H(Windy == True) = -0.00000\n",
      "H(Windy == False) = -0.00000\n"
     ]
    }
   ],
   "source": [
    "# fracture dataframe to export compute data\n",
    "tempStorage = dfR.groupby(['Windy', 'Play']).size()['T']\n",
    "\n",
    "# write values to variables\n",
    "yesCount = 0\n",
    "noCount = tempStorage['No']\n",
    "aggreg = yesCount + noCount\n",
    "aggregTrue = aggreg\n",
    "\n",
    "entropyTrue = -((noCount/aggreg)*math.log2(noCount/aggreg))\n",
    "\n",
    "##############################################\n",
    "# fracture dataframe to export compute data\n",
    "tempStorage = dfR.groupby(['Windy', 'Play']).size()['F']\n",
    "\n",
    "# write values to variables\n",
    "yesCount = tempStorage['Yes']\n",
    "noCount = 0\n",
    "aggreg = yesCount + noCount\n",
    "aggregFalse = aggreg\n",
    "\n",
    "entropyFalse = -((yesCount/aggreg)*math.log2(yesCount/aggreg))\n",
    "\n",
    "print(\"H(Windy == True) = {0:.5f}\".format(entropyTrue))\n",
    "print(\"H(Windy == False) = {0:.5f}\".format(entropyFalse))"
   ]
  },
  {
   "cell_type": "markdown",
   "metadata": {},
   "source": [
    "#### Information Gain for column Windy"
   ]
  },
  {
   "cell_type": "code",
   "execution_count": 42,
   "metadata": {},
   "outputs": [
    {
     "name": "stdout",
     "output_type": "stream",
     "text": [
      "IG(S, Windy) = 0.97095\n",
      "\n"
     ]
    }
   ],
   "source": [
    "offsetEntropy = (aggregTrue/aggregTotal)*entropyTrue + (aggregFalse/aggregTotal)*entropyFalse\n",
    "infoGain = entropyTotal - offsetEntropy\n",
    "\n",
    "infoGainDict['Outlook']['BranchRainy']['Windy'] = infoGain\n",
    "\n",
    "print(\"IG(S, Windy) = {0:.5f}\\n\".format(infoGain))"
   ]
  },
  {
   "cell_type": "markdown",
   "metadata": {},
   "source": [
    "## Overview Information Gain Branch Rainy\n",
    "### Select Node based on highest Information Gain value\n",
    "***"
   ]
  },
  {
   "cell_type": "code",
   "execution_count": 43,
   "metadata": {},
   "outputs": [
    {
     "name": "stdout",
     "output_type": "stream",
     "text": [
      "{'Outlook': {'BranchOvercast': 'Yes',\n",
      "             'BranchRainy': {'Humidity': 0.01997309402197489,\n",
      "                             'Temperature': 0.01997309402197489,\n",
      "                             'Windy': 0.9709505944546686},\n",
      "             'BranchSunny': {'Humidity': {'High': 'No', 'Normal': 'Yes'}}}}\n",
      "\n",
      "Selected 'Windy' because of value 0.97095\n",
      "{'Outlook': {'BranchOvercast': 'Yes',\n",
      "             'BranchRainy': {'Windy': {}},\n",
      "             'BranchSunny': {'Humidity': {'High': 'No', 'Normal': 'Yes'}}}}\n"
     ]
    }
   ],
   "source": [
    "pprint.pprint(infoGainDict)\n",
    "print(\"\\nSelected '{0}' because of value {1:.5f}\".format(\"Windy\", infoGainDict['Outlook']['BranchRainy']['Windy']))\n",
    "\n",
    "infoGainDict['Outlook']['BranchRainy'].clear()\n",
    "infoGainDict['Outlook']['BranchRainy']['Windy'] = dict()\n",
    "pprint.pprint(infoGainDict)"
   ]
  },
  {
   "cell_type": "markdown",
   "metadata": {},
   "source": [
    "## Subnode Windy of Branch Rainy \n",
    "***\n",
    "### High value"
   ]
  },
  {
   "cell_type": "code",
   "execution_count": 44,
   "metadata": {},
   "outputs": [
    {
     "data": {
      "text/html": [
       "<div>\n",
       "<style scoped>\n",
       "    .dataframe tbody tr th:only-of-type {\n",
       "        vertical-align: middle;\n",
       "    }\n",
       "\n",
       "    .dataframe tbody tr th {\n",
       "        vertical-align: top;\n",
       "    }\n",
       "\n",
       "    .dataframe thead th {\n",
       "        text-align: right;\n",
       "    }\n",
       "</style>\n",
       "<table border=\"1\" class=\"dataframe\">\n",
       "  <thead>\n",
       "    <tr style=\"text-align: right;\">\n",
       "      <th></th>\n",
       "      <th>Outlook</th>\n",
       "      <th>Temperature</th>\n",
       "      <th>Humidity</th>\n",
       "      <th>Windy</th>\n",
       "      <th>Play</th>\n",
       "    </tr>\n",
       "  </thead>\n",
       "  <tbody>\n",
       "    <tr>\n",
       "      <th>5</th>\n",
       "      <td>Rainy</td>\n",
       "      <td>Cool</td>\n",
       "      <td>Normal</td>\n",
       "      <td>T</td>\n",
       "      <td>No</td>\n",
       "    </tr>\n",
       "    <tr>\n",
       "      <th>13</th>\n",
       "      <td>Rainy</td>\n",
       "      <td>Mild</td>\n",
       "      <td>High</td>\n",
       "      <td>T</td>\n",
       "      <td>No</td>\n",
       "    </tr>\n",
       "  </tbody>\n",
       "</table>\n",
       "</div>"
      ],
      "text/plain": [
       "   Outlook Temperature Humidity Windy Play\n",
       "5    Rainy        Cool   Normal     T   No\n",
       "13   Rainy        Mild     High     T   No"
      ]
     },
     "execution_count": 44,
     "metadata": {},
     "output_type": "execute_result"
    }
   ],
   "source": [
    "dfRW = dfR.loc[dfR['Windy'] == 'T']\n",
    "dfRW"
   ]
  },
  {
   "cell_type": "markdown",
   "metadata": {},
   "source": [
    "All results of the dataframe are \"No\", hence no calculation of entropy necessary"
   ]
  },
  {
   "cell_type": "code",
   "execution_count": 45,
   "metadata": {},
   "outputs": [],
   "source": [
    "infoGainDict[\"Outlook\"]['BranchRainy']['Windy']['T'] = \"No\""
   ]
  },
  {
   "cell_type": "markdown",
   "metadata": {},
   "source": [
    "Leaf end - No\n",
    "\n",
    "Decision tree\n",
    "\n",
    "![](img/tIN1.png)"
   ]
  },
  {
   "cell_type": "markdown",
   "metadata": {},
   "source": [
    "### Normal value"
   ]
  },
  {
   "cell_type": "code",
   "execution_count": 46,
   "metadata": {},
   "outputs": [
    {
     "data": {
      "text/html": [
       "<div>\n",
       "<style scoped>\n",
       "    .dataframe tbody tr th:only-of-type {\n",
       "        vertical-align: middle;\n",
       "    }\n",
       "\n",
       "    .dataframe tbody tr th {\n",
       "        vertical-align: top;\n",
       "    }\n",
       "\n",
       "    .dataframe thead th {\n",
       "        text-align: right;\n",
       "    }\n",
       "</style>\n",
       "<table border=\"1\" class=\"dataframe\">\n",
       "  <thead>\n",
       "    <tr style=\"text-align: right;\">\n",
       "      <th></th>\n",
       "      <th>Outlook</th>\n",
       "      <th>Temperature</th>\n",
       "      <th>Humidity</th>\n",
       "      <th>Windy</th>\n",
       "      <th>Play</th>\n",
       "    </tr>\n",
       "  </thead>\n",
       "  <tbody>\n",
       "    <tr>\n",
       "      <th>3</th>\n",
       "      <td>Rainy</td>\n",
       "      <td>Mild</td>\n",
       "      <td>High</td>\n",
       "      <td>F</td>\n",
       "      <td>Yes</td>\n",
       "    </tr>\n",
       "    <tr>\n",
       "      <th>4</th>\n",
       "      <td>Rainy</td>\n",
       "      <td>Cool</td>\n",
       "      <td>Normal</td>\n",
       "      <td>F</td>\n",
       "      <td>Yes</td>\n",
       "    </tr>\n",
       "    <tr>\n",
       "      <th>9</th>\n",
       "      <td>Rainy</td>\n",
       "      <td>Mild</td>\n",
       "      <td>Normal</td>\n",
       "      <td>F</td>\n",
       "      <td>Yes</td>\n",
       "    </tr>\n",
       "  </tbody>\n",
       "</table>\n",
       "</div>"
      ],
      "text/plain": [
       "  Outlook Temperature Humidity Windy Play\n",
       "3   Rainy        Mild     High     F  Yes\n",
       "4   Rainy        Cool   Normal     F  Yes\n",
       "9   Rainy        Mild   Normal     F  Yes"
      ]
     },
     "execution_count": 46,
     "metadata": {},
     "output_type": "execute_result"
    }
   ],
   "source": [
    "dfRW = dfR.loc[dfR['Windy'] == 'F']\n",
    "dfRW"
   ]
  },
  {
   "cell_type": "markdown",
   "metadata": {},
   "source": [
    "All results of the dataframe are \"Yes\", hence no calculation of entropy necessary"
   ]
  },
  {
   "cell_type": "code",
   "execution_count": 47,
   "metadata": {},
   "outputs": [],
   "source": [
    "infoGainDict[\"Outlook\"]['BranchRainy']['Windy']['F'] = \"Yes\""
   ]
  },
  {
   "cell_type": "markdown",
   "metadata": {},
   "source": [
    "Leaf end - Yes\n",
    "\n",
    "Decision tree\n",
    "\n",
    "![](img/tIN2.png)"
   ]
  },
  {
   "cell_type": "code",
   "execution_count": 48,
   "metadata": {},
   "outputs": [
    {
     "name": "stdout",
     "output_type": "stream",
     "text": [
      "{'Outlook': {'BranchOvercast': 'Yes',\n",
      "             'BranchRainy': {'Windy': {'F': 'Yes', 'T': 'No'}},\n",
      "             'BranchSunny': {'Humidity': {'High': 'No', 'Normal': 'Yes'}}}}\n"
     ]
    }
   ],
   "source": [
    "#Final pprint of the dicitionary\n",
    "pprint.pprint(infoGainDict)\n"
   ]
  },
  {
   "cell_type": "code",
   "execution_count": null,
   "metadata": {},
   "outputs": [],
   "source": []
  },
  {
   "cell_type": "code",
   "execution_count": null,
   "metadata": {},
   "outputs": [],
   "source": []
  },
  {
   "cell_type": "code",
   "execution_count": null,
   "metadata": {},
   "outputs": [],
   "source": []
  },
  {
   "cell_type": "markdown",
   "metadata": {},
   "source": [
    "## Automation try\n",
    "\n",
    "reads dataframe and selects root node"
   ]
  },
  {
   "cell_type": "code",
   "execution_count": 49,
   "metadata": {},
   "outputs": [
    {
     "data": {
      "text/html": [
       "<div>\n",
       "<style scoped>\n",
       "    .dataframe tbody tr th:only-of-type {\n",
       "        vertical-align: middle;\n",
       "    }\n",
       "\n",
       "    .dataframe tbody tr th {\n",
       "        vertical-align: top;\n",
       "    }\n",
       "\n",
       "    .dataframe thead th {\n",
       "        text-align: right;\n",
       "    }\n",
       "</style>\n",
       "<table border=\"1\" class=\"dataframe\">\n",
       "  <thead>\n",
       "    <tr style=\"text-align: right;\">\n",
       "      <th></th>\n",
       "      <th>Outlook</th>\n",
       "      <th>Temperature</th>\n",
       "      <th>Humidity</th>\n",
       "      <th>Windy</th>\n",
       "      <th>Play</th>\n",
       "    </tr>\n",
       "  </thead>\n",
       "  <tbody>\n",
       "    <tr>\n",
       "      <th>0</th>\n",
       "      <td>Sunny</td>\n",
       "      <td>Hot</td>\n",
       "      <td>High</td>\n",
       "      <td>F</td>\n",
       "      <td>No</td>\n",
       "    </tr>\n",
       "    <tr>\n",
       "      <th>1</th>\n",
       "      <td>Sunny</td>\n",
       "      <td>Hot</td>\n",
       "      <td>High</td>\n",
       "      <td>T</td>\n",
       "      <td>No</td>\n",
       "    </tr>\n",
       "    <tr>\n",
       "      <th>2</th>\n",
       "      <td>Overcast</td>\n",
       "      <td>Hot</td>\n",
       "      <td>High</td>\n",
       "      <td>F</td>\n",
       "      <td>Yes</td>\n",
       "    </tr>\n",
       "    <tr>\n",
       "      <th>3</th>\n",
       "      <td>Rainy</td>\n",
       "      <td>Mild</td>\n",
       "      <td>High</td>\n",
       "      <td>F</td>\n",
       "      <td>Yes</td>\n",
       "    </tr>\n",
       "    <tr>\n",
       "      <th>4</th>\n",
       "      <td>Rainy</td>\n",
       "      <td>Cool</td>\n",
       "      <td>Normal</td>\n",
       "      <td>F</td>\n",
       "      <td>Yes</td>\n",
       "    </tr>\n",
       "    <tr>\n",
       "      <th>5</th>\n",
       "      <td>Rainy</td>\n",
       "      <td>Cool</td>\n",
       "      <td>Normal</td>\n",
       "      <td>T</td>\n",
       "      <td>No</td>\n",
       "    </tr>\n",
       "    <tr>\n",
       "      <th>6</th>\n",
       "      <td>Overcast</td>\n",
       "      <td>Cool</td>\n",
       "      <td>Normal</td>\n",
       "      <td>T</td>\n",
       "      <td>Yes</td>\n",
       "    </tr>\n",
       "    <tr>\n",
       "      <th>7</th>\n",
       "      <td>Sunny</td>\n",
       "      <td>Mild</td>\n",
       "      <td>High</td>\n",
       "      <td>F</td>\n",
       "      <td>No</td>\n",
       "    </tr>\n",
       "    <tr>\n",
       "      <th>8</th>\n",
       "      <td>Sunny</td>\n",
       "      <td>Cool</td>\n",
       "      <td>Normal</td>\n",
       "      <td>F</td>\n",
       "      <td>Yes</td>\n",
       "    </tr>\n",
       "    <tr>\n",
       "      <th>9</th>\n",
       "      <td>Rainy</td>\n",
       "      <td>Mild</td>\n",
       "      <td>Normal</td>\n",
       "      <td>F</td>\n",
       "      <td>Yes</td>\n",
       "    </tr>\n",
       "    <tr>\n",
       "      <th>10</th>\n",
       "      <td>Sunny</td>\n",
       "      <td>Mild</td>\n",
       "      <td>Normal</td>\n",
       "      <td>T</td>\n",
       "      <td>Yes</td>\n",
       "    </tr>\n",
       "    <tr>\n",
       "      <th>11</th>\n",
       "      <td>Overcast</td>\n",
       "      <td>Mild</td>\n",
       "      <td>High</td>\n",
       "      <td>T</td>\n",
       "      <td>Yes</td>\n",
       "    </tr>\n",
       "    <tr>\n",
       "      <th>12</th>\n",
       "      <td>Overcast</td>\n",
       "      <td>Hot</td>\n",
       "      <td>Normal</td>\n",
       "      <td>F</td>\n",
       "      <td>Yes</td>\n",
       "    </tr>\n",
       "    <tr>\n",
       "      <th>13</th>\n",
       "      <td>Rainy</td>\n",
       "      <td>Mild</td>\n",
       "      <td>High</td>\n",
       "      <td>T</td>\n",
       "      <td>No</td>\n",
       "    </tr>\n",
       "  </tbody>\n",
       "</table>\n",
       "</div>"
      ],
      "text/plain": [
       "     Outlook Temperature Humidity Windy Play\n",
       "0      Sunny         Hot     High     F   No\n",
       "1      Sunny         Hot     High     T   No\n",
       "2   Overcast         Hot     High     F  Yes\n",
       "3      Rainy        Mild     High     F  Yes\n",
       "4      Rainy        Cool   Normal     F  Yes\n",
       "5      Rainy        Cool   Normal     T   No\n",
       "6   Overcast        Cool   Normal     T  Yes\n",
       "7      Sunny        Mild     High     F   No\n",
       "8      Sunny        Cool   Normal     F  Yes\n",
       "9      Rainy        Mild   Normal     F  Yes\n",
       "10     Sunny        Mild   Normal     T  Yes\n",
       "11  Overcast        Mild     High     T  Yes\n",
       "12  Overcast         Hot   Normal     F  Yes\n",
       "13     Rainy        Mild     High     T   No"
      ]
     },
     "execution_count": 49,
     "metadata": {},
     "output_type": "execute_result"
    }
   ],
   "source": [
    "df = pd.read_csv(\"playTennis.csv\", sep=';')\n",
    "df"
   ]
  },
  {
   "cell_type": "code",
   "execution_count": 50,
   "metadata": {},
   "outputs": [
    {
     "name": "stdout",
     "output_type": "stream",
     "text": [
      "Entropies for total and subsets of Root-Node:\n",
      "{'root': {'Humidity': {'High': {'AggCount': 7, 'Entropy': 0.9852281360342515},\n",
      "                       'Normal': {'AggCount': 7,\n",
      "                                  'Entropy': 0.5916727785823275}},\n",
      "          'Outlook': {'Overcast': {'AggCount': 4, 'Entropy': -0.0},\n",
      "                      'Rainy': {'AggCount': 5, 'Entropy': 0.9709505944546686},\n",
      "                      'Sunny': {'AggCount': 5, 'Entropy': 0.9709505944546686}},\n",
      "          'Temperature': {'Cool': {'AggCount': 4,\n",
      "                                   'Entropy': 0.8112781244591328},\n",
      "                          'Hot': {'AggCount': 4, 'Entropy': 1.0},\n",
      "                          'Mild': {'AggCount': 6,\n",
      "                                   'Entropy': 0.9182958340544896}},\n",
      "          'Windy': {'F': {'AggCount': 8, 'Entropy': 0.8112781244591328},\n",
      "                    'T': {'AggCount': 6, 'Entropy': 1.0}},\n",
      "          'total': {'AggCount': 14, 'Entropy': 0.9402859586706309}}}\n",
      "\n",
      "Information Gains for Root-Node:\n",
      "{'Humidity': 0.15183550136234136,\n",
      " 'Outlook': 0.2467498197744391,\n",
      " 'Temperature': 0.029222565658954647,\n",
      " 'Windy': 0.04812703040826927}\n",
      "\n",
      "Selected 'Outlook' because of value 0.24675\n"
     ]
    }
   ],
   "source": [
    "def getEntropy(yesCount, noCount, sumYesNo):\n",
    "    if (yesCount == 0):\n",
    "        return -((noCount/sumYesNo)*math.log2(noCount/sumYesNo))\n",
    "    elif (noCount == 0):\n",
    "        return -((yesCount/sumYesNo)*math.log2(yesCount/sumYesNo))\n",
    "    else:\n",
    "        return -(((yesCount/sumYesNo)*math.log2(yesCount/sumYesNo)) + ((noCount/sumYesNo)*math.log2(noCount/sumYesNo)))\n",
    "\n",
    "def getInformationGain(totalDict, selectedDict):\n",
    "    totalEntropy = totalDict['Entropy']\n",
    "    totalAggCount = totalDict['AggCount']\n",
    "    \n",
    "    sumSelected = 0\n",
    "    for f in selectedDict:\n",
    "        selectedAggCount = selectedDict[f]['AggCount']\n",
    "        selectedEntropy = selectedDict[f]['Entropy']\n",
    "        sumSelected += ((selectedAggCount/totalAggCount)*selectedEntropy)\n",
    "        \n",
    "    return totalEntropy - sumSelected\n",
    "    #return totalEntropy - ((mO/totalAggCount)*outcastEntropy + (mS/totalAggCount)*sunnyEntropy + (mR/mD)*rainyEntropy)\n",
    "\n",
    "def runThrough(dataFrame, node, blackList):\n",
    "    colList = dataFrame.columns\n",
    "    resCol = 'Play'\n",
    "    resItems = pd.Series(dataFrame[resCol]).unique()\n",
    "\n",
    "    autdic = {}\n",
    "    autdic[node] = {}\n",
    "    #################### Total Entropy\n",
    "    aggCount = dataFrame.groupby([resCol]).size()[1] + dataFrame.groupby([resCol]).size()[0] \n",
    "    totalEntropy = getEntropy(dataFrame.groupby([resCol]).size()[1], dataFrame.groupby([resCol]).size()[0], aggCount)\n",
    "\n",
    "    autdic[node]['total'] = {}\n",
    "    autdic[node]['total']['AggCount'] = aggCount\n",
    "    autdic[node]['total']['Entropy'] = totalEntropy\n",
    "    #################### Entropy each Col\n",
    "    for i in colList:\n",
    "        if (i != resCol and i not in blackList):\n",
    "            autdic[node][i] = {}\n",
    "            uniqueItems = pd.Series(dataFrame[i]).unique()\n",
    "            for n in uniqueItems:\n",
    "                autdic[node][i][n] = {}\n",
    "                try:\n",
    "                  yesCount = dataFrame.groupby([i, resCol]).size()[n]['Yes']\n",
    "                except:\n",
    "                  yesCount = 0 \n",
    "                try:\n",
    "                  noCount = dataFrame.groupby([i, resCol]).size()[n]['No']\n",
    "                except:\n",
    "                  noCount = 0             \n",
    "\n",
    "                autdic[node][i][n]['AggCount'] = yesCount+noCount\n",
    "                autdic[node][i][n]['Entropy'] = getEntropy(yesCount,noCount,yesCount+noCount)\n",
    "                \n",
    "    return autdic\n",
    "\n",
    "\n",
    "### \"Main\"\n",
    "\n",
    "blackList = {}\n",
    "rootDictEntropy = runThrough(df, \"root\", \"\")\n",
    "rootDictInformationGain = {}\n",
    "\n",
    "\n",
    "for i in rootDictEntropy['root']:\n",
    "    if i != \"total\":\n",
    "        rootDictInformationGain[i] = getInformationGain(rootDictEntropy['root']['total'], rootDictEntropy['root'][i])\n",
    "\n",
    "        \n",
    "print(\"Entropies for total and subsets of Root-Node:\")\n",
    "pprint.pprint(rootDictEntropy)\n",
    "print(\"\\nInformation Gains for Root-Node:\")\n",
    "pprint.pprint(rootDictInformationGain)\n",
    "\n",
    "import operator\n",
    "selectRootNode = max(rootDictInformationGain.items(), key=operator.itemgetter(1))[0]\n",
    "\n",
    "print(\"\\nSelected '{0}' because of value {1:.5f}\".format(selectRootNode, rootDictInformationGain[selectRootNode]))\n",
    "\n",
    "\n",
    "blackList[0] = selectRootNode"
   ]
  },
  {
   "cell_type": "code",
   "execution_count": null,
   "metadata": {},
   "outputs": [],
   "source": []
  }
 ],
 "metadata": {
  "kernelspec": {
   "display_name": "Python 3",
   "language": "python",
   "name": "python3"
  },
  "language_info": {
   "codemirror_mode": {
    "name": "ipython",
    "version": 3
   },
   "file_extension": ".py",
   "mimetype": "text/x-python",
   "name": "python",
   "nbconvert_exporter": "python",
   "pygments_lexer": "ipython3",
   "version": "3.6.9"
  }
 },
 "nbformat": 4,
 "nbformat_minor": 4
}
