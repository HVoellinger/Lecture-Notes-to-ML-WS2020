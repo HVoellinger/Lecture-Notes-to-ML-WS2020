{
 "cells": [
  {
   "cell_type": "markdown",
   "metadata": {},
   "source": [
    "# multiple Linear Regression (mLR) with scikit-learn (Example for lesson ML05)\n",
    "\n",
    "Powered by: Dr. Hermann Völlinger, DHBW Stuttgart(Germany); August 2020\n",
    "    \n",
    "Following ideas from: \n",
    "\"Linear Regression in Python\" by Mirko Stojiljkovic, 28.4.2020 \n",
    "(see details: https://realpython.com/linear-regression-in-python/#what-is-regression)     \n",
    " \n",
    "You can obtain the properties of the model the same way as in the case of simple linear regression:\n",
    "The example is from Lecture: \"ML_Concept&Algorithm\" (WS2020); Chapter ML5, Example E5.3 title:\n",
    " \"Student Exam. Result\"\n",
    " \n",
    "Find \"least square fit\"z = a + b*x + c*y with Training Set TS  ={(x,y;z)|(exam. preparation[h], \n",
    "homework[h]; score[pt])}= {(7,5;41),(3,4;27),(5,5;35),(3,3;26),(8,9;48),(7,8;45),(10,10;46), (3,5;27),(5,3;29),(3,3;19)}\t\t\t\t\t\t\t\t\t\t\n",
    "\n",
    "So let’s start with the next level of Linear Regression, which is multipe Linear Regression (mLR).\n",
    "There are five basic steps when you’re implementing linear regression:\n",
    "    \n",
    "1. Import the packages and classes you need.\n",
    "2. Provide data to work with and eventually do appropriate transformations.\n",
    "3. Create a regression model and fit it with existing data.\n",
    "4. Check the results of model fitting to know whether the model is satisfactory.\n",
    "5. Apply the model for predictions.\n",
    "These steps are more or less general for most of the regression approaches and implementations."
   ]
  },
  {
   "cell_type": "markdown",
   "metadata": {},
   "source": [
    "## Steps 1 and 2: Import packages and classes, and provide data\n",
    "\n",
    "First, you import numpy and sklearn.linear_model.LinearRegression and provide known inputs and output:"
   ]
  },
  {
   "cell_type": "code",
   "execution_count": 1,
   "metadata": {},
   "outputs": [],
   "source": [
    "# First, you import numpy and sklearn.linear_model.LinearRegression and\n",
    "# provide known inputs and output. \n",
    "\n",
    "import numpy as np\n",
    "from sklearn.linear_model import LinearRegression\n",
    "\n",
    "# That’s a simple way to define the input x and output y.\n",
    "\n",
    "x = [[7,5],[3,4],[5,5],[3,3],[8,9],[7,8],[10,10],[3,5],[5,3],[3,3]]\n",
    "y = [  41 , 27  , 35  , 26  ,  48 ,  45 ,  46   ,  27 ,  29 ,  19 ]\n",
    "x, y = np.array(x), np.array(y)\n",
    "\n"
   ]
  },
  {
   "cell_type": "code",
   "execution_count": 2,
   "metadata": {},
   "outputs": [
    {
     "name": "stdout",
     "output_type": "stream",
     "text": [
      "x looks like:  [[ 7  5]\n",
      " [ 3  4]\n",
      " [ 5  5]\n",
      " [ 3  3]\n",
      " [ 8  9]\n",
      " [ 7  8]\n",
      " [10 10]\n",
      " [ 3  5]\n",
      " [ 5  3]\n",
      " [ 3  3]]\n",
      "y looks like:  [41 27 35 26 48 45 46 27 29 19]\n"
     ]
    }
   ],
   "source": [
    "# You can print x and y to see how they look now:\n",
    "\n",
    "print('x looks like: ', x)\n",
    "\n",
    "print('y looks like: ', y)\n"
   ]
  },
  {
   "cell_type": "markdown",
   "metadata": {},
   "source": [
    "## Step 3: Create a model and fit it\n",
    "\n",
    "The next step is to create the regression model as an instance of LinearRegression and fit it with .fit():"
   ]
  },
  {
   "cell_type": "code",
   "execution_count": 3,
   "metadata": {},
   "outputs": [],
   "source": [
    "# The result of this statement is the variable model referring to the object of type LinearRegression.\n",
    "# It represents the regression model fitted with existing data.\n",
    "\n",
    "model = LinearRegression().fit(x, y)"
   ]
  },
  {
   "cell_type": "markdown",
   "metadata": {},
   "source": [
    "## Step 4: Get results\n",
    "\n",
    "You can obtain the properties of the model the same way as in the case of simple linear regression:"
   ]
  },
  {
   "cell_type": "code",
   "execution_count": 4,
   "metadata": {},
   "outputs": [
    {
     "name": "stdout",
     "output_type": "stream",
     "text": [
      "coefficient of determination: 0.8842531690055735\n",
      "intercept: 13.264053254437865\n",
      "coefficients: [2.48754931 1.38239645]\n"
     ]
    }
   ],
   "source": [
    "r_sq = model.score(x, y)\n",
    "print('coefficient of determination:', r_sq)\n",
    "print('intercept:', model.intercept_)\n",
    "print('coefficients:', model.coef_)\n"
   ]
  },
  {
   "cell_type": "markdown",
   "metadata": {},
   "source": [
    "You obtain the value of 𝑅² using .score() and the values of the estimators of regression coefficients with .intercept_ \n",
    "and .coef_. Again, .intercept_ holds the bias 𝑏₀, while now coef_ is an array containing 𝑏₁ and 𝑏₂ respectively.\n",
    "In this example, the intercept is approximately 13.26, and this is the value of the predicted response when x = y = 0. \n",
    "The increase of x by 1 yields the rise of the predicted response by 2.488 Similarly, when y grows by 1, the response rises \n",
    "by 1.383."
   ]
  },
  {
   "cell_type": "markdown",
   "metadata": {},
   "source": [
    "## Step 5: Predict response\n",
    "\n",
    "Predictions also work the same way as in the case of simple linear regression:\n",
    "    The predicted response is obtained with .predict()"
   ]
  },
  {
   "cell_type": "code",
   "execution_count": 5,
   "metadata": {},
   "outputs": [
    {
     "name": "stdout",
     "output_type": "stream",
     "text": [
      "predicted response:\n",
      "[37.58888067 26.25628698 32.61378205 24.87389053 45.60601578 41.73607002\n",
      " 51.96351085 27.63868343 29.84898915 24.87389053]\n"
     ]
    }
   ],
   "source": [
    "y_pred = model.predict(x)\n",
    "print('predicted response:', y_pred, sep='\\n')"
   ]
  },
  {
   "cell_type": "markdown",
   "metadata": {},
   "source": [
    "You can predict the output values also (which is similar to run \".predict()\"), by multiplying each column of the input with the appropriate weight, summing the results and adding the intercept to the sum."
   ]
  },
  {
   "cell_type": "code",
   "execution_count": 6,
   "metadata": {},
   "outputs": [
    {
     "name": "stdout",
     "output_type": "stream",
     "text": [
      "predicted response:\n",
      "[37.58888067 26.25628698 32.61378205 24.87389053 45.60601578 41.73607002\n",
      " 51.96351085 27.63868343 29.84898915 24.87389053]\n"
     ]
    }
   ],
   "source": [
    "y_pred = model.intercept_ + np.sum(model.coef_ * x, axis=1)\n",
    "print('predicted response:', y_pred, sep='\\n')"
   ]
  },
  {
   "cell_type": "code",
   "execution_count": 7,
   "metadata": {},
   "outputs": [
    {
     "name": "stdout",
     "output_type": "stream",
     "text": [
      "*******current date and time *********\n",
      "Date an Time: 30.08.2020 23:22:44\n",
      "End\n"
     ]
    }
   ],
   "source": [
    "# print current date and time\n",
    "\n",
    "import time\n",
    "print(\"*******current date and time *********\")\n",
    "print(\"Date an Time:\",time.strftime(\"%d.%m.%Y %H:%M:%S\"))\n",
    "print (\"End\")"
   ]
  }
 ],
 "metadata": {
  "kernelspec": {
   "display_name": "Python 3",
   "language": "python",
   "name": "python3"
  },
  "language_info": {
   "codemirror_mode": {
    "name": "ipython",
    "version": 3
   },
   "file_extension": ".py",
   "mimetype": "text/x-python",
   "name": "python",
   "nbconvert_exporter": "python",
   "pygments_lexer": "ipython3",
   "version": "3.8.2"
  }
 },
 "nbformat": 4,
 "nbformat_minor": 4
}
